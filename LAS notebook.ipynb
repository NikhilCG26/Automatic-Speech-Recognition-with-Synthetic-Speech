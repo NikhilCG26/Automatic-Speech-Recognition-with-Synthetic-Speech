{
  "nbformat": 4,
  "nbformat_minor": 0,
  "metadata": {
    "colab": {
      "provenance": [],
      "gpuType": "T4"
    },
    "kernelspec": {
      "name": "python3",
      "display_name": "Python 3"
    },
    "language_info": {
      "name": "python"
    },
    "accelerator": "GPU",
    "gpuClass": "standard",
    "widgets": {
      "application/vnd.jupyter.widget-state+json": {
        "e82068db00434aa0bbf0b2470df535ca": {
          "model_module": "@jupyter-widgets/controls",
          "model_name": "VBoxModel",
          "model_module_version": "1.5.0",
          "state": {
            "_dom_classes": [],
            "_model_module": "@jupyter-widgets/controls",
            "_model_module_version": "1.5.0",
            "_model_name": "VBoxModel",
            "_view_count": null,
            "_view_module": "@jupyter-widgets/controls",
            "_view_module_version": "1.5.0",
            "_view_name": "VBoxView",
            "box_style": "",
            "children": [
              "IPY_MODEL_67b75ed3927349be8ceae92999b01f32",
              "IPY_MODEL_2b4a3093967d44f29c487ec66339987c"
            ],
            "layout": "IPY_MODEL_e04a51fb680243ecaab47a06b120c741"
          }
        },
        "67b75ed3927349be8ceae92999b01f32": {
          "model_module": "@jupyter-widgets/controls",
          "model_name": "LabelModel",
          "model_module_version": "1.5.0",
          "state": {
            "_dom_classes": [],
            "_model_module": "@jupyter-widgets/controls",
            "_model_module_version": "1.5.0",
            "_model_name": "LabelModel",
            "_view_count": null,
            "_view_module": "@jupyter-widgets/controls",
            "_view_module_version": "1.5.0",
            "_view_name": "LabelView",
            "description": "",
            "description_tooltip": null,
            "layout": "IPY_MODEL_fdf4dff3ec9c4a178574074d031daa11",
            "placeholder": "​",
            "style": "IPY_MODEL_a346c087c77f4895a13ace6681157973",
            "value": "0.000 MB of 0.000 MB uploaded (0.000 MB deduped)\r"
          }
        },
        "2b4a3093967d44f29c487ec66339987c": {
          "model_module": "@jupyter-widgets/controls",
          "model_name": "FloatProgressModel",
          "model_module_version": "1.5.0",
          "state": {
            "_dom_classes": [],
            "_model_module": "@jupyter-widgets/controls",
            "_model_module_version": "1.5.0",
            "_model_name": "FloatProgressModel",
            "_view_count": null,
            "_view_module": "@jupyter-widgets/controls",
            "_view_module_version": "1.5.0",
            "_view_name": "ProgressView",
            "bar_style": "",
            "description": "",
            "description_tooltip": null,
            "layout": "IPY_MODEL_324f3f52b8fc41a8836a228fc3f2320d",
            "max": 1,
            "min": 0,
            "orientation": "horizontal",
            "style": "IPY_MODEL_a2ff13f549344ec49be708a7596856b1",
            "value": 1
          }
        },
        "e04a51fb680243ecaab47a06b120c741": {
          "model_module": "@jupyter-widgets/base",
          "model_name": "LayoutModel",
          "model_module_version": "1.2.0",
          "state": {
            "_model_module": "@jupyter-widgets/base",
            "_model_module_version": "1.2.0",
            "_model_name": "LayoutModel",
            "_view_count": null,
            "_view_module": "@jupyter-widgets/base",
            "_view_module_version": "1.2.0",
            "_view_name": "LayoutView",
            "align_content": null,
            "align_items": null,
            "align_self": null,
            "border": null,
            "bottom": null,
            "display": null,
            "flex": null,
            "flex_flow": null,
            "grid_area": null,
            "grid_auto_columns": null,
            "grid_auto_flow": null,
            "grid_auto_rows": null,
            "grid_column": null,
            "grid_gap": null,
            "grid_row": null,
            "grid_template_areas": null,
            "grid_template_columns": null,
            "grid_template_rows": null,
            "height": null,
            "justify_content": null,
            "justify_items": null,
            "left": null,
            "margin": null,
            "max_height": null,
            "max_width": null,
            "min_height": null,
            "min_width": null,
            "object_fit": null,
            "object_position": null,
            "order": null,
            "overflow": null,
            "overflow_x": null,
            "overflow_y": null,
            "padding": null,
            "right": null,
            "top": null,
            "visibility": null,
            "width": null
          }
        },
        "fdf4dff3ec9c4a178574074d031daa11": {
          "model_module": "@jupyter-widgets/base",
          "model_name": "LayoutModel",
          "model_module_version": "1.2.0",
          "state": {
            "_model_module": "@jupyter-widgets/base",
            "_model_module_version": "1.2.0",
            "_model_name": "LayoutModel",
            "_view_count": null,
            "_view_module": "@jupyter-widgets/base",
            "_view_module_version": "1.2.0",
            "_view_name": "LayoutView",
            "align_content": null,
            "align_items": null,
            "align_self": null,
            "border": null,
            "bottom": null,
            "display": null,
            "flex": null,
            "flex_flow": null,
            "grid_area": null,
            "grid_auto_columns": null,
            "grid_auto_flow": null,
            "grid_auto_rows": null,
            "grid_column": null,
            "grid_gap": null,
            "grid_row": null,
            "grid_template_areas": null,
            "grid_template_columns": null,
            "grid_template_rows": null,
            "height": null,
            "justify_content": null,
            "justify_items": null,
            "left": null,
            "margin": null,
            "max_height": null,
            "max_width": null,
            "min_height": null,
            "min_width": null,
            "object_fit": null,
            "object_position": null,
            "order": null,
            "overflow": null,
            "overflow_x": null,
            "overflow_y": null,
            "padding": null,
            "right": null,
            "top": null,
            "visibility": null,
            "width": null
          }
        },
        "a346c087c77f4895a13ace6681157973": {
          "model_module": "@jupyter-widgets/controls",
          "model_name": "DescriptionStyleModel",
          "model_module_version": "1.5.0",
          "state": {
            "_model_module": "@jupyter-widgets/controls",
            "_model_module_version": "1.5.0",
            "_model_name": "DescriptionStyleModel",
            "_view_count": null,
            "_view_module": "@jupyter-widgets/base",
            "_view_module_version": "1.2.0",
            "_view_name": "StyleView",
            "description_width": ""
          }
        },
        "324f3f52b8fc41a8836a228fc3f2320d": {
          "model_module": "@jupyter-widgets/base",
          "model_name": "LayoutModel",
          "model_module_version": "1.2.0",
          "state": {
            "_model_module": "@jupyter-widgets/base",
            "_model_module_version": "1.2.0",
            "_model_name": "LayoutModel",
            "_view_count": null,
            "_view_module": "@jupyter-widgets/base",
            "_view_module_version": "1.2.0",
            "_view_name": "LayoutView",
            "align_content": null,
            "align_items": null,
            "align_self": null,
            "border": null,
            "bottom": null,
            "display": null,
            "flex": null,
            "flex_flow": null,
            "grid_area": null,
            "grid_auto_columns": null,
            "grid_auto_flow": null,
            "grid_auto_rows": null,
            "grid_column": null,
            "grid_gap": null,
            "grid_row": null,
            "grid_template_areas": null,
            "grid_template_columns": null,
            "grid_template_rows": null,
            "height": null,
            "justify_content": null,
            "justify_items": null,
            "left": null,
            "margin": null,
            "max_height": null,
            "max_width": null,
            "min_height": null,
            "min_width": null,
            "object_fit": null,
            "object_position": null,
            "order": null,
            "overflow": null,
            "overflow_x": null,
            "overflow_y": null,
            "padding": null,
            "right": null,
            "top": null,
            "visibility": null,
            "width": null
          }
        },
        "a2ff13f549344ec49be708a7596856b1": {
          "model_module": "@jupyter-widgets/controls",
          "model_name": "ProgressStyleModel",
          "model_module_version": "1.5.0",
          "state": {
            "_model_module": "@jupyter-widgets/controls",
            "_model_module_version": "1.5.0",
            "_model_name": "ProgressStyleModel",
            "_view_count": null,
            "_view_module": "@jupyter-widgets/base",
            "_view_module_version": "1.2.0",
            "_view_name": "StyleView",
            "bar_color": null,
            "description_width": ""
          }
        }
      }
    }
  },
  "cells": [
    {
      "cell_type": "code",
      "source": [
        "!nvidia-smi"
      ],
      "metadata": {
        "id": "8UK7J-dp5iN5"
      },
      "execution_count": null,
      "outputs": []
    },
    {
      "cell_type": "code",
      "source": [
        "# Install some required libraries\n",
        "# Feel free to add more if you want\n",
        "!pip install -q python-levenshtein torchsummaryX wandb kaggle pytorch-nlp \n",
        "!pip install wandb --quiet\n",
        "!pip install torchsummaryX -q"
      ],
      "metadata": {
        "id": "nYgaLmgy5iqR"
      },
      "execution_count": null,
      "outputs": []
    },
    {
      "cell_type": "code",
      "source": [
        "!pip install torchmetrics"
      ],
      "metadata": {
        "id": "k-xuWvukyH9M"
      },
      "execution_count": null,
      "outputs": []
    },
    {
      "cell_type": "markdown",
      "source": [
        "# Imports"
      ],
      "metadata": {
        "id": "yEkA_GGG-tTB"
      }
    },
    {
      "cell_type": "code",
      "source": [
        "# Import Necessary Modules you require for this HW here\n",
        "import torch\n",
        "from torch import nn\n",
        "from torchsummaryX import summary\n",
        "import torchnlp\n",
        "import torchnlp.nn\n",
        "from torchnlp.nn import LockedDropout\n",
        "import torch.nn.functional as F\n",
        "from torch.utils.data import Dataset, DataLoader\n",
        "from torch.nn.utils.rnn import pad_sequence, pack_padded_sequence, pad_packed_sequence\n",
        "import os\n",
        "import gc\n",
        "import random\n",
        "from tqdm import tqdm\n",
        "import numpy as np\n",
        "import pandas as pd\n",
        "import glob\n",
        "# import wandb\n",
        "import matplotlib.pyplot as plt\n",
        "DEVICE = 'cuda' if torch.cuda.is_available() else 'cpu'\n",
        "print(\"Device: \", DEVICE)\n",
        "import json\n",
        "import Levenshtein\n",
        "import seaborn as sns\n",
        "import torchaudio\n",
        "import torchmetrics"
      ],
      "metadata": {
        "id": "p0aXmrxM-usO"
      },
      "execution_count": null,
      "outputs": []
    },
    {
      "cell_type": "code",
      "source": [
        "# To download the dataset\n",
        "!kaggle datasets download -d varunjain3/11-785-s23-hw4p2-dataset"
      ],
      "metadata": {
        "id": "F581gjfnqE2C"
      },
      "execution_count": null,
      "outputs": []
    },
    {
      "cell_type": "code",
      "source": [
        "# To unzip data quickly and quietly\n",
        "!unzip -q 11-785-s23-hw4p2-dataset.zip -d ./data"
      ],
      "metadata": {
        "id": "7ko7QN16qF2V"
      },
      "execution_count": null,
      "outputs": []
    },
    {
      "cell_type": "code",
      "execution_count": null,
      "metadata": {
        "id": "MBMLGYX-kZcd"
      },
      "outputs": [],
      "source": [
        "config = {\n",
        "  'batch_size': 150,\n",
        "  'lr':1e-3,\n",
        "  'epochs': 1,\n",
        "}\n",
        "\n",
        "VOCAB = ['<pad>', '<sos>', '<eos>', \n",
        "         'A',   'B',    'C',    'D',    \n",
        "         'E',   'F',    'G',    'H',    \n",
        "         'I',   'J',    'K',    'L',       \n",
        "         'M',   'N',    'O',    'P',    \n",
        "         'Q',   'R',    'S',    'T', \n",
        "         'U',   'V',    'W',    'X', \n",
        "         'Y',   'Z',    \"'\",    ' ', \n",
        "         ]\n",
        "\n",
        "VOCAB_MAP = {VOCAB[i]:i for i in range(0, len(VOCAB))}\n",
        "\n",
        "PAD_TOKEN = VOCAB_MAP[\"<pad>\"]\n",
        "SOS_TOKEN = VOCAB_MAP[\"<sos>\"]\n",
        "EOS_TOKEN = VOCAB_MAP[\"<eos>\"]\n",
        "\n",
        "print(f\"Length of vocab: {len(VOCAB)}\")\n",
        "print(f\"Vocab: {VOCAB}\")\n",
        "print(f\"PAD_TOKEN: {PAD_TOKEN}\")\n",
        "print(f\"SOS_TOKEN: {SOS_TOKEN}\")\n",
        "print(f\"EOS_TOKEN: {EOS_TOKEN}\")"
      ]
    },
    {
      "cell_type": "code",
      "source": [
        "class SpeechDataset(torch.utils.data.Dataset):\n",
        "  '''\n",
        "  Feel free to add arguments, additional functions, this is the \n",
        "  bare-minimum template.\n",
        "  '''\n",
        "  def __init__(self, root = \"/content/data\", vocab_map = VOCAB_MAP, partition = \"train-clean-100\"):\n",
        "    self.vocab_map = vocab_map\n",
        "    self.mfcc_dir = os.path.join(root,partition)+\"/mfcc\" #TODO\n",
        "    self.transcript_dir = os.path.join(root,partition)+\"/transcripts\" #TODO\n",
        "    mfcc_names          = sorted(os.listdir(self.mfcc_dir))\n",
        "    transcript_names    = sorted(os.listdir(self.transcript_dir))\n",
        "    assert len(mfcc_names) == len(transcript_names)\n",
        "\n",
        "    self.mfccs = []#TODO\n",
        "    self.transcripts = []#TODO\n",
        "    for i in range(len(mfcc_names)):\n",
        "        mfcc        = np.load(os.path.join(self.mfcc_dir,mfcc_names[i]))\n",
        "        mfcc        = mfcc - (np.sum(mfcc, axis = 0)/mfcc.shape[0])\n",
        "        transcript  = np.load(os.path.join(self.transcript_dir,transcript_names[i])) # Remove [SOS] and [EOS] from the transcript\n",
        "        # transcript = transcript.astype(np.uint8) \n",
        "        self.mfccs.append(mfcc)\n",
        "        self.transcripts.append(transcript)\n",
        "\n",
        "    self.length = len(self.mfccs)\n",
        "    self.transcripts = [np.array([self.vocab_map[i] for i in seq]) for seq in self.transcripts]\n",
        "\n",
        "  def __len__(self):\n",
        "    return self.length\n",
        "  \n",
        "  def __getitem__(self, ind):\n",
        "\n",
        "    mfcc = torch.FloatTensor(self.mfccs[ind])\n",
        "    transcript = torch.tensor(self.transcripts[ind])\n",
        "\n",
        "    return mfcc, transcript\n",
        "\n",
        "  \n",
        "  def collate_fn(self, batch):\n",
        "\n",
        "    x_batch, y_batch = list(zip(*batch))\n",
        "    # batch_mfcc = []\n",
        "    # batch_transcript = []\n",
        "    # lengths_mfcc = []\n",
        "    # lengths_transcript = []\n",
        "    # for data, label in batch:\n",
        "    #   batch_mfcc.append(data)\n",
        "    #   batch_transcript.append(label)\n",
        "    #   lengths_mfcc.append(len(data))\n",
        "    #   lengths_transcript.append(len(label))\n",
        "\n",
        "    \n",
        "    x_lens      = [x.shape[0] for x in x_batch] \n",
        "    y_lens      = [y.shape[0] for y in y_batch] \n",
        "    \n",
        "    x_batch_pad = torch.nn.utils.rnn.pad_sequence(x_batch, batch_first=True, padding_value= PAD_TOKEN)\n",
        "    y_batch_pad = torch.nn.utils.rnn.pad_sequence(y_batch, batch_first=True, padding_value= PAD_TOKEN)\n",
        "\n",
        "    return x_batch_pad, y_batch_pad, torch.tensor(x_lens), torch.tensor(y_lens)\n"
      ],
      "metadata": {
        "id": "VuneWaTStdF2"
      },
      "execution_count": null,
      "outputs": []
    },
    {
      "cell_type": "code",
      "source": [
        "class SpeechDatasetTest(torch.utils.data.Dataset):\n",
        "  '''\n",
        "  Feel free to add arguments, additional functions, this is the \n",
        "  bare-minimum template.\n",
        "  '''\n",
        "  def __init__(self, root = \"/content/data\", vocab_map = VOCAB_MAP, partition = \"test-clean\"):\n",
        "    self.vocab_map = vocab_map\n",
        "    self.mfcc_dir = os.path.join(root,partition)+\"/mfcc\" #TODO\n",
        "    mfcc_names          = sorted(os.listdir(self.mfcc_dir))\n",
        "\n",
        "\n",
        "\n",
        "    self.mfccs = []#TODO\n",
        "    for i in range(len(mfcc_names)):\n",
        "        mfcc        = np.load(os.path.join(self.mfcc_dir,mfcc_names[i]))\n",
        "        mfcc        = mfcc - (np.sum(mfcc, axis = 0)/mfcc.shape[0])\n",
        "        self.mfccs.append(mfcc)\n",
        "\n",
        "    self.length = len(self.mfccs)\n",
        "\n",
        "  def __len__(self):\n",
        "    return self.length\n",
        "  \n",
        "  def __getitem__(self, ind):\n",
        "\n",
        "    mfcc = torch.FloatTensor(self.mfccs[ind])\n",
        "\n",
        "    return mfcc\n",
        "\n",
        "  \n",
        "  def collate_fn(self, batch):\n",
        "    \n",
        "    batch_mfcc = []  # TODO\n",
        "    lengths_mfcc = []\n",
        "\n",
        "    for data in batch:\n",
        "        batch_mfcc.append(data)\n",
        "        lengths_mfcc.append(len(data)) \n",
        "\n",
        "    batch_mfcc_pad = pad_sequence(batch_mfcc, batch_first = True, padding_value = PAD_TOKEN)\n",
        "\n",
        "    return batch_mfcc_pad, torch.tensor(lengths_mfcc)"
      ],
      "metadata": {
        "id": "L0CCK_XinTyX"
      },
      "execution_count": null,
      "outputs": []
    },
    {
      "cell_type": "code",
      "source": [
        "train_data = SpeechDataset(partition = \"train-clean-100\") #TODO\n",
        "val_data = SpeechDataset(partition = \"dev-clean\")\n",
        "test_data = SpeechDatasetTest()\n",
        "\n",
        "train_loader = torch.utils.data.DataLoader(\n",
        "    dataset     = train_data, \n",
        "    num_workers = 6,\n",
        "    batch_size  = config['batch_size'], \n",
        "    pin_memory  = True,\n",
        "    shuffle     = True,\n",
        "    collate_fn  = train_data.collate_fn\n",
        ")#TODO\n",
        "val_loader = torch.utils.data.DataLoader(\n",
        "    dataset     = val_data, \n",
        "    num_workers = 2,\n",
        "    batch_size  = config['batch_size'], \n",
        "    pin_memory  = True,\n",
        "    shuffle     = True,\n",
        "    collate_fn  = val_data.collate_fn\n",
        ")#TODO\n",
        "test_loader = torch.utils.data.DataLoader(\n",
        "    dataset     = test_data, \n",
        "    num_workers = 1,\n",
        "    batch_size  = config['batch_size'], \n",
        "    pin_memory  = True,\n",
        "    shuffle     = False,\n",
        "    collate_fn  = test_data.collate_fn\n",
        ") \n"
      ],
      "metadata": {
        "id": "tzuIXCyAuNvo"
      },
      "execution_count": null,
      "outputs": []
    },
    {
      "cell_type": "code",
      "source": [
        "print(\"\\nChecking the shapes of the data...\")\n",
        "for batch in train_loader:\n",
        "    x, y, lx, ly = batch\n",
        "    print(x.shape, y.shape, lx.shape, ly.shape)\n",
        "    break\n"
      ],
      "metadata": {
        "colab": {
          "base_uri": "https://localhost:8080/"
        },
        "id": "fDAa9MsHp4a-",
        "outputId": "04348f99-8eb0-4047-add5-605a7c361ac6"
      },
      "execution_count": null,
      "outputs": [
        {
          "output_type": "stream",
          "name": "stdout",
          "text": [
            "\n",
            "Checking the shapes of the data...\n",
            "torch.Size([150, 1690, 27]) torch.Size([150, 336]) torch.Size([150]) torch.Size([150])\n"
          ]
        }
      ]
    },
    {
      "cell_type": "markdown",
      "source": [
        "Check if you are loading the data correctly with the following:\n",
        "\n",
        "(Note: These are outputs from loading your data in the dataset class, not your dataloader which will have padded sequences)\n",
        "\n",
        "- Train Dataset\n",
        "```\n",
        "Partition loaded:  train-clean-100\n",
        "Max mfcc length:  2448\n",
        "Average mfcc length:  1264.6258453344547\n",
        "Max transcript:  400\n",
        "Average transcript length:  186.65321139493324\n",
        "```\n",
        "\n",
        "- Dev Dataset\n",
        "```\n",
        "Partition loaded:  dev-clean\n",
        "Max mfcc length:  3260\n",
        "Average mfcc length:  713.3570107288198\n",
        "Max transcript:  518\n",
        "Average transcript length:  108.71698113207547\n",
        "```\n",
        "\n",
        "- Test Dataset\n",
        "```\n",
        "Partition loaded:  test-clean\n",
        "Max mfcc length:  3491\n",
        "Average mfcc length:  738.2206106870229\n",
        "```\n",
        "\n",
        "If your values is not matching, read hints, think what could have gone wrong. Then approach TAs."
      ],
      "metadata": {
        "id": "i_n3pqt7ud4t"
      }
    },
    {
      "cell_type": "markdown",
      "source": [
        "# THE MODEL \n",
        "\n",
        "### Listen, Attend and Spell\n",
        "Listen, Attend and Spell (LAS) is a neural network model used for speech recognition and synthesis tasks.\n",
        "\n",
        "- LAS is designed to handle long input sequences and is robust to noisy speech signals.\n",
        "- LAS is known for its high accuracy and ability to improve over time with additional training data.\n",
        "- It consists of an <b>listener, an attender and a speller</b>, which work together to convert an input speech signal into a corresponding output text.\n",
        "\n",
        "#### The Dataflow:\n",
        "<center>\n",
        "<img src=\"https://github.com/varunjain3/11785_s23_h4p2/raw/main/DataFlow.png\" alt=\"data flow\" height=\"100\">\n",
        "</center>\n",
        "\n",
        "#### The Listener: \n",
        "- converts the input speech signal into a sequence of hidden states.\n",
        "\n",
        "#### The Attender:\n",
        "- Decides how the sequence of Encoder hidden state is propogated to decoder.\n",
        "\n",
        "#### The Speller:\n",
        "- A language model, that incorporates the \"context of attender\"(output of attender) to predict sequence of words.\n",
        "\n",
        "\n",
        "\n",
        "\n"
      ],
      "metadata": {
        "id": "M8q9wt4TwzPt"
      }
    },
    {
      "cell_type": "markdown",
      "source": [
        "## The Listener:"
      ],
      "metadata": {
        "id": "aPL08W_Z3R18"
      }
    },
    {
      "cell_type": "markdown",
      "source": [
        "Psuedocode:\n",
        "```python\n",
        "class Listner:\n",
        "  def init():\n",
        "    feature_embedder = #Few layers of 1DConv-batchnorm-activation (Don't overdo)\n",
        "    pblstm_encoder = #Cascaded pblstm layers (Take pblstm from #HW3P2), \n",
        "    #can add more sequential lstms \n",
        "    dropout = #As per your liking\n",
        "\n",
        "  def forward(x,lx):\n",
        "    embedding = feature_embedder(x) #optional\n",
        "    encoding, encoding_len = pblstm_encoder(embedding/x,lx)\n",
        "    #Regularization if needed\n",
        "    return encoding, encoding_len\n",
        "```\n",
        "\n"
      ],
      "metadata": {
        "id": "_ewKlVQF3edC"
      }
    },
    {
      "cell_type": "code",
      "source": [
        "\n",
        "class PermuteBlock(torch.nn.Module):\n",
        "    def forward(self, x):\n",
        "        return x.transpose(1, 2)\n",
        "        \n",
        "class pBLSTM(torch.nn.Module):\n",
        "    \n",
        "    def __init__(self, input_size, hidden_size):\n",
        "        super(pBLSTM, self).__init__()\n",
        "\n",
        "        self.blstm = nn.LSTM(input_size = input_size, hidden_size = hidden_size, num_layers = 1, batch_first = True, dropout = 0.18, bidirectional = True) # TODO: Initialize a single layer bidirectional LSTM with the given input_size and hidden_size\n",
        "    \n",
        "    \n",
        "    def forward(self, x_packed):\n",
        "        x, seq_length = pad_packed_sequence(x_packed, batch_first = True, padding_value = PAD_TOKEN)\n",
        "        x_downsampled, x_lens = self.trunc_reshape(x, seq_length)\n",
        "        # print(\"x downsampled shape: \",x_downsampled.shape)\n",
        "        x_down_packed = pack_padded_sequence(x_downsampled, x_lens, batch_first = True, enforce_sorted = False)\n",
        "        output, _ = self.blstm(x_down_packed)\n",
        "        return output, x_lens\n",
        "\n",
        "    def trunc_reshape(self, x, x_lens): \n",
        "        batch_size, t_step, feature_dim = x.shape\n",
        "\n",
        "        if t_step % 2 != 0:\n",
        "          x = x[:,:-1,:]\n",
        "          t_step -= 1\n",
        "\n",
        "        x = x.reshape((batch_size, int(t_step/2), feature_dim*2))\n",
        "        x_lens = x_lens//2\n",
        "        return x, x_lens"
      ],
      "metadata": {
        "id": "DUj-vDXxe8ZI"
      },
      "execution_count": null,
      "outputs": []
    },
    {
      "cell_type": "code",
      "source": [
        "class Listener(torch.nn.Module):\n",
        "  def __init__(self, input_size, encoder_hidden_size):\n",
        "    super(Listener, self).__init__()\n",
        "    \n",
        "    self.embedding = torch.nn.Sequential(\n",
        "              torch.nn.Conv1d(in_channels=input_size,out_channels=150,kernel_size=5,padding=2),\n",
        "              torch.nn.BatchNorm1d(150),\n",
        "              torch.nn.GELU(),\n",
        "              torch.nn.Conv1d(in_channels=150,out_channels= 4*encoder_hidden_size,kernel_size=5,padding=2)\n",
        "              )#TODO: You can use CNNs as Embedding layer to extract features. Keep in mind the Input dimensions and expected dimension of Pytorch CNN.\n",
        "\n",
        "    self.lock_drop = LockedDropout(p = 0.15)\n",
        "\n",
        "    self.pblstm1 = pBLSTM(input_size = 2*2*2*encoder_hidden_size, hidden_size = 2*encoder_hidden_size)\n",
        "    self.pblstm2 = pBLSTM(input_size = 2*2*2*encoder_hidden_size, hidden_size = 2*encoder_hidden_size)\n",
        "    # self.pblstm3 = pBLSTM(input_size = 2*2*2*encoder_hidden_size, hidden_size = 2*encoder_hidden_size)\n",
        "    self.permute = PermuteBlock()\n",
        "\n",
        "  def forward(self, x, x_lens):\n",
        "    x = self.permute(x)\n",
        "    x = self.embedding(x)\n",
        "    x = self.permute(x)\n",
        "\n",
        "\n",
        "    # x = self.permute(x)\n",
        "    # x = self.lock_drop1(x)\n",
        "    # x = self.permute(x)\n",
        "\n",
        "    x = pack_padded_sequence(x, lengths = x_lens, batch_first = True, enforce_sorted = False)\n",
        "\n",
        "\n",
        "    pblstm1_out, x_lens = self.pblstm1(x)\n",
        "    pblstm1_out, x_lens = pad_packed_sequence(pblstm1_out, batch_first = True, padding_value = PAD_TOKEN)\n",
        "\n",
        "    pblstm1_out = pblstm1_out.transpose(0,1)\n",
        "    pblstm1_out = self.lock_drop(pblstm1_out)\n",
        "    pblstm1_out = pblstm1_out.transpose(0,1)\n",
        "    \n",
        "    pblstm1_out = pack_padded_sequence(pblstm1_out, lengths = x_lens, batch_first = True, enforce_sorted = False)\n",
        "\n",
        "    pblstm2_out, x_lens = self.pblstm2(pblstm1_out)\n",
        "    pblstm2_out, x_lens = pad_packed_sequence(pblstm2_out, batch_first=True, padding_value = PAD_TOKEN)\n",
        "    # pblstm2_out = self.permute(pblstm2_out)\n",
        "    # pblstm2_out = self.lock_drop(pblstm2_out)\n",
        "    # pblstm2_out = self.permute(pblstm2_out)\n",
        "    # pblstm2_out = pack_padded_sequence(pblstm2_out, lengths = x_lens, batch_first = True, enforce_sorted = False)\n",
        "\n",
        "    # pblstm3_out, x_lens = self.pblstm3(pblstm2_out)\n",
        "    # pblstm3_out, x_lens = pad_packed_sequence(pblstm3_out, batch_first=True, padding_value = PAD_TOKEN)\n",
        "\n",
        "    \n",
        "\n",
        "    return pblstm2_out, x_lens\n"
      ],
      "metadata": {
        "id": "jTQHiB1jvM6_"
      },
      "execution_count": null,
      "outputs": []
    },
    {
      "cell_type": "markdown",
      "source": [
        "## Attention\n",
        "\n",
        "### Different ways to compute Attention\n",
        "\n",
        "1. Dot-product attention\n",
        "    * raw_weights = bmm(key, query) \n",
        "    * Optional: Scaled dot-product by normalizing with sqrt key dimension \n",
        "    * Check \"Attention is All You Need\" Section 3.2.1\n",
        "    * 1st way is what most TAs are comfortable with, but if you want to explore, check out other methods below\n",
        "\n",
        "\n",
        "2. Cosine attention\n",
        "    * raw_weights = cosine(query, key) # almost the same as dot-product xD \n",
        "\n",
        "3. Bi-linear attention\n",
        "    * W = Linear transformation (learnable parameter): d_k -> d_q\n",
        "    * raw_weights = bmm(key @ W, query)\n",
        "\n",
        "4. Multi-layer perceptron\n",
        "    * Check \"Neural Machine Translation and Sequence-to-sequence Models: A Tutorial\" Section 8.4\n",
        "\n",
        "5. Multi-Head Attention\n",
        "    * Check \"Attention is All You Need\" Section 3.2.2\n",
        "    * h = Number of heads\n",
        "    * W_Q, W_K, W_V: Weight matrix for Q, K, V (h of them in total)\n",
        "    * W_O: d_v -> d_v\n",
        "    * Reshape K: (B, T, d_k) to (B, T, h, d_k // h) and transpose to (B, h, T, d_k // h)\n",
        "    * Reshape V: (B, T, d_v) to (B, T, h, d_v // h) and transpose to (B, h, T, d_v // h)\n",
        "    * Reshape Q: (B, d_q) to (B, h, d_q // h) `\n",
        "    * raw_weights = Q @ K^T\n",
        "    * masked_raw_weights = mask(raw_weights)\n",
        "    * attention = softmax(masked_raw_weights)\n",
        "    * multi_head = attention @ V\n",
        "    * multi_head = multi_head reshaped to (B, d_v)\n",
        "    * context = multi_head @ W_O"
      ],
      "metadata": {
        "id": "5fG9jDZBVklL"
      }
    },
    {
      "cell_type": "markdown",
      "source": [
        "Pseudocode:\n",
        "\n",
        "```python\n",
        "class Attention:\n",
        "    '''\n",
        "    Attention is calculated using the key, value (from encoder embeddings) and query from decoder.\n",
        "\n",
        "    After obtaining the raw weights, compute and return attention weights and context as follows.:\n",
        "\n",
        "    attention_weights   = softmax(raw_weights)\n",
        "    attention_context   = einsum(\"thinkwhatwouldbetheequationhere\",attention, value) #take hint from raw_weights calculation\n",
        "\n",
        "    At the end, you can pass context through a linear layer too.\n",
        "    '''\n",
        "\n",
        "    def init(listener_hidden_size,\n",
        "              speller_hidden_size,\n",
        "              projection_size):\n",
        "\n",
        "        VW = Linear(listener_hidden_size,projection_size)\n",
        "        KW = Linear(listener_hidden_size,projection_size)\n",
        "        QW = Linear(speller_hidden_size,projection_size)\n",
        "\n",
        "    def set_key_value(encoder_outputs):\n",
        "        '''\n",
        "        In this function we take the encoder embeddings and make key and values from it.\n",
        "        key.shape   = (batch_size, timesteps, projection_size)\n",
        "        value.shape = (batch_size, timesteps, projection_size)\n",
        "        '''\n",
        "        key = KW(encoder_outputs)\n",
        "        value = VW(encoder_outputs)\n",
        "      \n",
        "    def compute_context(decoder_context):\n",
        "        '''\n",
        "        In this function from decoder context, we make the query, and then we\n",
        "         multiply the queries with the keys to find the attention logits, \n",
        "         finally we take a softmax to calculate attention energy which gets \n",
        "         multiplied to the generted values and then gets summed.\n",
        "\n",
        "        key.shape   = (batch_size, timesteps, projection_size)\n",
        "        value.shape = (batch_size, timesteps, projection_size)\n",
        "        query.shape = (batch_size, projection_size)\n",
        "\n",
        "        You are also recomended to check out Abu's Lecture 19 to understand Attention better.\n",
        "        '''\n",
        "        query = QW(decoder_context) #(batch_size, projection_size)\n",
        "\n",
        "        raw_weights = #using bmm or einsum. We need to perform batch matrix multiplication. It is important you do this step correctly.\n",
        "        #What will be the shape of raw_weights?\n",
        "\n",
        "        attention_weights = #What makes raw_weights -> attention_weights\n",
        "\n",
        "        attention_context = #Multiply attention weights to values\n",
        "\n",
        "        return attention_context, attention_weights \n",
        "```"
      ],
      "metadata": {
        "id": "QyO03fO5VotY"
      }
    },
    {
      "cell_type": "code",
      "source": [
        "class Attention(torch.nn.Module):\n",
        "\n",
        "  def __init__(self, listener_size, speller_size, projection_size):\n",
        "    super().__init__()\n",
        "    \n",
        "    self.VW = torch.nn.Linear(listener_size,projection_size)\n",
        "    self.KW = torch.nn.Linear(listener_size,projection_size)\n",
        "    self.QW = torch.nn.Linear(speller_size,projection_size)\n",
        "    self.softmax = torch.nn.Softmax(dim=1)\n",
        "\n",
        "  def set_key_value(self, encoder_outputs):\n",
        "    # print(encoder_outputs.shape)\n",
        "    self.key = self.KW(encoder_outputs)\n",
        "    self.value = self.VW(encoder_outputs)\n",
        "\n",
        "  def compute_context(self, decoder_context):\n",
        "\n",
        "    self.query = self.QW(decoder_context)\n",
        "    self.query = torch.unsqueeze(self.query,2)\n",
        "    length_q = self.query.shape[1]\n",
        "    # print(\"key: \", self.key.shape)\n",
        "    # print(\"q: \", self.query.shape)\n",
        "    raw_weights = torch.bmm(self.key, self.query).squeeze()\n",
        "    attention_weights = self.softmax(raw_weights/np.sqrt(length_q))\n",
        "    attention_context = torch.einsum('bi,bij->bj', attention_weights,self.value)\n",
        "\n",
        "    return attention_context, attention_weights"
      ],
      "metadata": {
        "id": "771TXxn7ViOW"
      },
      "execution_count": null,
      "outputs": []
    },
    {
      "cell_type": "code",
      "source": [
        "np.sqrt(9)"
      ],
      "metadata": {
        "colab": {
          "base_uri": "https://localhost:8080/"
        },
        "id": "ARMq3hI8g3xS",
        "outputId": "15a421a3-9592-473a-d811-e076bdf8737a"
      },
      "execution_count": null,
      "outputs": [
        {
          "output_type": "execute_result",
          "data": {
            "text/plain": [
              "3.0"
            ]
          },
          "metadata": {},
          "execution_count": 19
        }
      ]
    },
    {
      "cell_type": "markdown",
      "source": [
        "## The Speller\n",
        "\n",
        "Similar to the language model that you coded up for HW4P1, you have to code a language model for HW4P2 as well. This time, we will also call the attention context step, within the decoder to get the attended-encoder-embeddings.\n",
        "\n",
        "\n",
        "What you have coded till now:\n",
        "\n",
        "<center>\n",
        "<img src=\"https://github.com/varunjain3/11785_s23_h4p2/raw/main/EncoderAttention.png\" alt=\"data flow\" height=\"400\">\n",
        "</center>\n",
        "\n",
        "For the Speller, what we have to code:\n",
        "\n",
        "\n",
        "<center>\n",
        "<img src=\"https://github.com/varunjain3/11785_s23_h4p2/raw/main/Decoder.png\" alt=\"data flow\" height=\"400\">\n",
        "</center>"
      ],
      "metadata": {
        "id": "4Sp1WywZmm1L"
      }
    },
    {
      "cell_type": "code",
      "source": [
        "a = torch.rand(4,5)\n",
        "b = torch.rand(4,6)\n",
        "torch.cat((a,b),dim=1).shape"
      ],
      "metadata": {
        "colab": {
          "base_uri": "https://localhost:8080/"
        },
        "id": "h9eIrOPC_qPS",
        "outputId": "6519a9ba-dc98-43a0-b085-61e7946d6b7e"
      },
      "execution_count": null,
      "outputs": [
        {
          "output_type": "execute_result",
          "data": {
            "text/plain": [
              "torch.Size([4, 11])"
            ]
          },
          "metadata": {},
          "execution_count": 20
        }
      ]
    },
    {
      "cell_type": "code",
      "source": [
        "class Speller(torch.nn.Module):\n",
        "\n",
        "  # Refer to your HW4P1 implementation for help with setting up the language model.\n",
        "  # The only thing you need to implement on top of your HW4P1 model is the attention module and teacher forcing.\n",
        "\n",
        "  def __init__(self, vocab_size, embedding_size, projection_size, speller_size, attender):\n",
        "    super(). __init__()\n",
        "\n",
        "    lstm_size = embedding_size+projection_size\n",
        "    self.attend = attender # Attention object in speller\n",
        "    self.max_timesteps = 550 # Max timesteps\n",
        "    self.projection_size = projection_size\n",
        "\n",
        "    self.embedding =  torch.nn.Embedding(vocab_size, embedding_size) # Embedding layer to convert token to latent space\n",
        "\n",
        "    self.lstm_cells =  torch.nn.Sequential(\n",
        "            torch.nn.LSTMCell(lstm_size, speller_size),\n",
        "            torch.nn.LSTMCell(speller_size, speller_size),\n",
        "            torch.nn.LSTMCell(speller_size, speller_size)\n",
        "        )# Create a sequence of LSTM Cells\n",
        "    \n",
        "\n",
        "    # For CDN (Feel free to change)\n",
        "    self.output_to_char = torch.nn.Linear(speller_size+projection_size, embedding_size)# Linear module to convert outputs to correct hidden size (Optional: TO make dimensions match)\n",
        "    self.activation = torch.nn.GELU()# Check which activation is suggested\n",
        "    self.dropout = torch.nn.Dropout(p=0.15)\n",
        "\n",
        "    self.linear1 = torch.nn.Linear(embedding_size, embedding_size)\n",
        "    self.linear2 = torch.nn.Linear(embedding_size, embedding_size)\n",
        "    self.char_prob = torch.nn.Linear(embedding_size, vocab_size) # Linear layer to convert hidden space back to logits for token classification\n",
        "    self.char_prob.weight = self.embedding.weight# Weight tying (From embedding layer)\n",
        "    self.apply(self._init_weights)\n",
        "\n",
        "  def lstm_step(self, embedding, hidden_states_list):\n",
        "\n",
        "    for i in range(len(self.lstm_cells)):\n",
        "        if i == 0:\n",
        "          embedding, cell_state = self.lstm_cells[i](embedding,hidden_states_list[i]) # Feed the input through each LSTM Cell\n",
        "        else:\n",
        "          embedding, cell_state = self.lstm_cells[i](embedding,hidden_states_list[i])\n",
        "\n",
        "        hidden_states_list[i] = (embedding, cell_state)\n",
        "        \n",
        "    return embedding, hidden_states_list # What information does forward() need?\n",
        "    \n",
        "  def CDN(self, input):\n",
        "    # Make the CDN here, you can add the output-to-char\n",
        "    # print(\"input\",input.shape)\n",
        "    # print(\"lstm size\", )\n",
        "    out = self.activation(self.output_to_char(self.dropout(input)))\n",
        "    out = self.activation(self.linear1(self.dropout(out)))\n",
        "    out = self.activation(self.linear2(self.dropout(out)))\n",
        "    out = self.char_prob(out)\n",
        "    return out\n",
        "  \n",
        "  def _init_weights(self, module):\n",
        "    if isinstance(module, nn.LSTMCell):\n",
        "     torch.nn.init.uniform_(module.weight_ih, -0.1, 0.1)\n",
        "     torch.nn.init.uniform_(module.weight_hh, -0.1, 0.1)\n",
        "\n",
        "  def forward (self,x, y=None, teacher_forcing_ratio=1):\n",
        "    batch_size = x.shape[0]\n",
        "\n",
        "    attn_context = torch.zeros(batch_size, self.projection_size).to(DEVICE)# initial context tensor for time t = 0\n",
        "    output_symbol = torch.full((batch_size,), SOS_TOKEN).to(DEVICE) # Set it to SOS for time t = 0\n",
        "    \n",
        "    raw_outputs = []  \n",
        "    attention_plot = []\n",
        "      \n",
        "    if y is None:\n",
        "      timesteps = self.max_timesteps\n",
        "      teacher_forcing_ratio = 0 #Why does it become zero?\n",
        "\n",
        "    else:\n",
        "      timesteps = y.shape[1] # How many timesteps are we predicting for?\n",
        "\n",
        "    hidden_states_list = [None] * len(self.lstm_cells)# Initialize your hidden_states list here similar to HW4P1\n",
        "\n",
        "    for t in range(timesteps):\n",
        "      p = random.uniform(0,1)# generate a probability p between 0 and 1\n",
        "\n",
        "      if p < teacher_forcing_ratio and t > 0: # Why do we consider cases only when t > 0? What is considered when t == 0? Think.\n",
        "        output_symbol = y[:,t-1] # Take from y, else draw from probability distribution\n",
        "\n",
        "      # elif p > teacher_forcing_ratio and t > 0:\n",
        "      char_embed = self.embedding(output_symbol) # Embed the character symbol\n",
        "\n",
        "      # Concatenate the character embedding and context from attention, as shown in the diagram\n",
        "      lstm_input = torch.cat((char_embed,attn_context), dim = 1)\n",
        "\n",
        "      lstm_out, hidden_states_list = self.lstm_step(lstm_input, hidden_states_list) # Feed the input through LSTM Cells and attention.\n",
        "      # What should we retrieve from forward_step to prepare for the next timestep?\n",
        "\n",
        "      attn_context, attn_weights = self.attend.compute_context(lstm_out) # Feed the resulting hidden state into attention\n",
        "\n",
        "      cdn_input = torch.cat((lstm_out,attn_context), dim = 1)# TODO: You need to concatenate the context from the attention module with the LSTM output hidden state, as shown in the diagram\n",
        "\n",
        "      raw_pred = self.CDN(cdn_input) # call CDN with cdn_input\n",
        "\n",
        "      # Generate a prediction for this timestep and collect it in output_symbols\n",
        "      # print(raw_pred.shape)\n",
        "      output_symbol = torch.argmax(raw_pred, dim = 1)# Draw correctly from raw_pred\n",
        "\n",
        "      raw_outputs.append(raw_pred) # for loss calculation\n",
        "      attention_plot.append(attn_weights) # for plotting attention plot\n",
        "\n",
        "    \n",
        "    attention_plot = torch.stack(attention_plot, dim=1)\n",
        "    raw_outputs = torch.stack(raw_outputs, dim=1)\n",
        "\n",
        "    return raw_outputs, attention_plot"
      ],
      "metadata": {
        "id": "nFkc6MbnlUPu"
      },
      "execution_count": null,
      "outputs": []
    },
    {
      "cell_type": "code",
      "source": [
        "a = torch.rand(5,4)\n",
        "b = torch.rand(5,3)\n",
        "c = torch.cat((a,b), dim = 1)\n"
      ],
      "metadata": {
        "id": "pwK-v2IMOBCN"
      },
      "execution_count": null,
      "outputs": []
    },
    {
      "cell_type": "code",
      "source": [
        "c.shape"
      ],
      "metadata": {
        "colab": {
          "base_uri": "https://localhost:8080/"
        },
        "id": "hz-KrgnmOaCM",
        "outputId": "80b8c645-d64e-43d8-a0cb-4239050e0c3b"
      },
      "execution_count": null,
      "outputs": [
        {
          "output_type": "execute_result",
          "data": {
            "text/plain": [
              "torch.Size([5, 7])"
            ]
          },
          "metadata": {},
          "execution_count": 23
        }
      ]
    },
    {
      "cell_type": "markdown",
      "source": [
        "## LAS"
      ],
      "metadata": {
        "id": "bgOQlDRI-E4z"
      }
    },
    {
      "cell_type": "markdown",
      "source": [
        "Here we finally build the LAS model, comibining the listener, attender and speller together, we have given a template, but you are free to read the paper and implement it yourself."
      ],
      "metadata": {
        "id": "ZuAjQFlTBVED"
      }
    },
    {
      "cell_type": "code",
      "source": [
        "class LAS(torch.nn.Module):\n",
        "  def __init__(self, vocab_size, embedding_size, input_size, encoder_hidden_size, listener_size, speller_size, projection_size): # add parameters\n",
        "    super().__init__()\n",
        "    self.name = \"LAS\"\n",
        "    # Pass the right parameters here\n",
        "    self.listener = Listener(input_size, encoder_hidden_size)\n",
        "    self.attend = Attention(listener_size, speller_size, projection_size)\n",
        "    self.speller = Speller(vocab_size, embedding_size, projection_size, speller_size, self.attend)\n",
        "\n",
        "    self.aug = torch.nn.Sequential(\n",
        "        PermuteBlock(),\n",
        "        torchaudio.transforms.TimeMasking(10),\n",
        "        torchaudio.transforms.FrequencyMasking(5),\n",
        "        PermuteBlock()\n",
        "    )\n",
        "  def forward(self, x,lx,y=None,teacher_forcing_ratio=1):\n",
        "    # Encode speech features\n",
        "    if self.training:\n",
        "      x = self.aug(x)\n",
        "      \n",
        "    encoder_outputs, _ = self.listener(x,lx)\n",
        "\n",
        "    # We want to compute keys and values ahead of the decoding step, as they are constant for all timesteps\n",
        "    # Set keys and values using the encoder outputs\n",
        "    # print(encoder_outputs.shape)\n",
        "    self.attend.set_key_value(encoder_outputs)\n",
        "\n",
        "    # Decode text with the speller using context from the attention\n",
        "    raw_outputs, attention_plots = self.speller(x, y,teacher_forcing_ratio=teacher_forcing_ratio)\n",
        "\n",
        "    return raw_outputs, attention_plots"
      ],
      "metadata": {
        "id": "scvB2cI-OSof"
      },
      "execution_count": null,
      "outputs": []
    },
    {
      "cell_type": "markdown",
      "source": [
        "# Model Setup "
      ],
      "metadata": {
        "id": "bPZD3vqdUisj"
      }
    },
    {
      "cell_type": "code",
      "source": [
        "# Baseline LAS has the following configuration:\n",
        "# Encoder bLSTM/pbLSTM Hidden Dimension of 512 (256 per direction)\n",
        "# Decoder Embedding Layer Dimension of 256\n",
        "# Decoder Hidden Dimension of 512 \n",
        "# Attention Projection Size of 128\n",
        "# Feel Free to Experiment with this \n",
        "\n",
        "# vocab_size, speller_embedding_size, input_size, listener_hidden_size, listener_size, speller_size, projection_size\n",
        "model = LAS(\n",
        "    # Initialize your model \n",
        "    # Read the paper and think about what dimensions should be used\n",
        "    # You can experiment on these as well, but they are not requried for the early submission\n",
        "    # Remember that if you are using weight tying, some sizes need to be the same\n",
        "    vocab_size=31,\n",
        "    embedding_size=350,\n",
        "    input_size=27,\n",
        "    encoder_hidden_size=240,\n",
        "    listener_size = 4*240,\n",
        "    speller_size = 560,\n",
        "    projection_size = 300\n",
        ")\n",
        "\n",
        "model = model.to(DEVICE)\n",
        "print(model)\n",
        "\n",
        "summary(model, \n",
        "        x.to(DEVICE), \n",
        "        lx,\n",
        "        y.to(DEVICE))"
      ],
      "metadata": {
        "id": "a9LN0l5VUk_s",
        "colab": {
          "base_uri": "https://localhost:8080/",
          "height": 1000
        },
        "outputId": "5f5ded5d-b3f2-473b-985b-e27a17e40144"
      },
      "execution_count": null,
      "outputs": [
        {
          "output_type": "stream",
          "name": "stderr",
          "text": [
            "/usr/local/lib/python3.9/dist-packages/torch/nn/modules/rnn.py:71: UserWarning: dropout option adds dropout after all but last recurrent layer, so non-zero dropout expects num_layers greater than 1, but got dropout=0.18 and num_layers=1\n",
            "  warnings.warn(\"dropout option adds dropout after all but last \"\n"
          ]
        },
        {
          "output_type": "stream",
          "name": "stdout",
          "text": [
            "LAS(\n",
            "  (listener): Listener(\n",
            "    (embedding): Sequential(\n",
            "      (0): Conv1d(27, 150, kernel_size=(5,), stride=(1,), padding=(2,))\n",
            "      (1): BatchNorm1d(150, eps=1e-05, momentum=0.1, affine=True, track_running_stats=True)\n",
            "      (2): GELU(approximate='none')\n",
            "      (3): Conv1d(150, 960, kernel_size=(5,), stride=(1,), padding=(2,))\n",
            "    )\n",
            "    (lock_drop): LockedDropout(p=0.15)\n",
            "    (pblstm1): pBLSTM(\n",
            "      (blstm): LSTM(1920, 480, batch_first=True, dropout=0.18, bidirectional=True)\n",
            "    )\n",
            "    (pblstm2): pBLSTM(\n",
            "      (blstm): LSTM(1920, 480, batch_first=True, dropout=0.18, bidirectional=True)\n",
            "    )\n",
            "    (permute): PermuteBlock()\n",
            "  )\n",
            "  (attend): Attention(\n",
            "    (VW): Linear(in_features=960, out_features=300, bias=True)\n",
            "    (KW): Linear(in_features=960, out_features=300, bias=True)\n",
            "    (QW): Linear(in_features=560, out_features=300, bias=True)\n",
            "    (softmax): Softmax(dim=1)\n",
            "  )\n",
            "  (speller): Speller(\n",
            "    (attend): Attention(\n",
            "      (VW): Linear(in_features=960, out_features=300, bias=True)\n",
            "      (KW): Linear(in_features=960, out_features=300, bias=True)\n",
            "      (QW): Linear(in_features=560, out_features=300, bias=True)\n",
            "      (softmax): Softmax(dim=1)\n",
            "    )\n",
            "    (embedding): Embedding(31, 350)\n",
            "    (lstm_cells): Sequential(\n",
            "      (0): LSTMCell(650, 560)\n",
            "      (1): LSTMCell(560, 560)\n",
            "      (2): LSTMCell(560, 560)\n",
            "    )\n",
            "    (output_to_char): Linear(in_features=860, out_features=350, bias=True)\n",
            "    (activation): GELU(approximate='none')\n",
            "    (dropout): Dropout(p=0.15, inplace=False)\n",
            "    (linear1): Linear(in_features=350, out_features=350, bias=True)\n",
            "    (linear2): Linear(in_features=350, out_features=350, bias=True)\n",
            "    (char_prob): Linear(in_features=350, out_features=31, bias=True)\n",
            "  )\n",
            "  (aug): Sequential(\n",
            "    (0): PermuteBlock()\n",
            "    (1): TimeMasking()\n",
            "    (2): FrequencyMasking()\n",
            "    (3): PermuteBlock()\n",
            "  )\n",
            ")\n"
          ]
        },
        {
          "output_type": "stream",
          "name": "stderr",
          "text": [
            "/usr/local/lib/python3.9/dist-packages/torchsummaryX/torchsummaryX.py:101: FutureWarning: Dropping of nuisance columns in DataFrame reductions (with 'numeric_only=None') is deprecated; in a future version this will raise TypeError.  Select only valid columns before calling the reduction.\n",
            "  df_sum = df.sum()\n"
          ]
        },
        {
          "output_type": "stream",
          "name": "stdout",
          "text": [
            "=============================================================================================\n",
            "                                Kernel Shape     Output Shape Params Mult-Adds\n",
            "Layer                                                                         \n",
            "0_aug.PermuteBlock_0                       -  [150, 27, 1690]      -         -\n",
            "1_aug.TimeMasking_1                        -  [150, 27, 1690]      -         -\n",
            "2_aug.FrequencyMasking_2                   -  [150, 27, 1690]      -         -\n",
            "3_aug.PermuteBlock_3                       -  [150, 1690, 27]      -         -\n",
            "4_listener.PermuteBlock_permute            -  [150, 27, 1690]      -         -\n",
            "...                                      ...              ...    ...       ...\n",
            "6060_speller.GELU_activation               -       [150, 350]      -         -\n",
            "6061_speller.Dropout_dropout               -       [150, 350]      -         -\n",
            "6062_speller.Linear_linear2       [350, 350]       [150, 350]      -    122.5k\n",
            "6063_speller.GELU_activation               -       [150, 350]      -         -\n",
            "6064_speller.Linear_char_prob      [350, 31]        [150, 31]      -    10.85k\n",
            "\n",
            "[6065 rows x 4 columns]\n",
            "---------------------------------------------------------------------------------------------\n",
            "                           Totals\n",
            "Total params           28.244141M\n",
            "Trainable params       28.244141M\n",
            "Non-trainable params          0.0\n",
            "Mult-Adds             4.17085785G\n",
            "=============================================================================================\n"
          ]
        },
        {
          "output_type": "execute_result",
          "data": {
            "text/plain": [
              "                                Kernel Shape     Output Shape  Params  \\\n",
              "Layer                                                                   \n",
              "0_aug.PermuteBlock_0                       -  [150, 27, 1690]     NaN   \n",
              "1_aug.TimeMasking_1                        -  [150, 27, 1690]     NaN   \n",
              "2_aug.FrequencyMasking_2                   -  [150, 27, 1690]     NaN   \n",
              "3_aug.PermuteBlock_3                       -  [150, 1690, 27]     NaN   \n",
              "4_listener.PermuteBlock_permute            -  [150, 27, 1690]     NaN   \n",
              "...                                      ...              ...     ...   \n",
              "6060_speller.GELU_activation               -       [150, 350]     NaN   \n",
              "6061_speller.Dropout_dropout               -       [150, 350]     NaN   \n",
              "6062_speller.Linear_linear2       [350, 350]       [150, 350]     NaN   \n",
              "6063_speller.GELU_activation               -       [150, 350]     NaN   \n",
              "6064_speller.Linear_char_prob      [350, 31]        [150, 31]     NaN   \n",
              "\n",
              "                                 Mult-Adds  \n",
              "Layer                                       \n",
              "0_aug.PermuteBlock_0                   NaN  \n",
              "1_aug.TimeMasking_1                    NaN  \n",
              "2_aug.FrequencyMasking_2               NaN  \n",
              "3_aug.PermuteBlock_3                   NaN  \n",
              "4_listener.PermuteBlock_permute        NaN  \n",
              "...                                    ...  \n",
              "6060_speller.GELU_activation           NaN  \n",
              "6061_speller.Dropout_dropout           NaN  \n",
              "6062_speller.Linear_linear2       122500.0  \n",
              "6063_speller.GELU_activation           NaN  \n",
              "6064_speller.Linear_char_prob      10850.0  \n",
              "\n",
              "[6065 rows x 4 columns]"
            ],
            "text/html": [
              "\n",
              "  <div id=\"df-1f31e01b-882f-4f9d-9a23-2c93ec7dbb75\">\n",
              "    <div class=\"colab-df-container\">\n",
              "      <div>\n",
              "<style scoped>\n",
              "    .dataframe tbody tr th:only-of-type {\n",
              "        vertical-align: middle;\n",
              "    }\n",
              "\n",
              "    .dataframe tbody tr th {\n",
              "        vertical-align: top;\n",
              "    }\n",
              "\n",
              "    .dataframe thead th {\n",
              "        text-align: right;\n",
              "    }\n",
              "</style>\n",
              "<table border=\"1\" class=\"dataframe\">\n",
              "  <thead>\n",
              "    <tr style=\"text-align: right;\">\n",
              "      <th></th>\n",
              "      <th>Kernel Shape</th>\n",
              "      <th>Output Shape</th>\n",
              "      <th>Params</th>\n",
              "      <th>Mult-Adds</th>\n",
              "    </tr>\n",
              "    <tr>\n",
              "      <th>Layer</th>\n",
              "      <th></th>\n",
              "      <th></th>\n",
              "      <th></th>\n",
              "      <th></th>\n",
              "    </tr>\n",
              "  </thead>\n",
              "  <tbody>\n",
              "    <tr>\n",
              "      <th>0_aug.PermuteBlock_0</th>\n",
              "      <td>-</td>\n",
              "      <td>[150, 27, 1690]</td>\n",
              "      <td>NaN</td>\n",
              "      <td>NaN</td>\n",
              "    </tr>\n",
              "    <tr>\n",
              "      <th>1_aug.TimeMasking_1</th>\n",
              "      <td>-</td>\n",
              "      <td>[150, 27, 1690]</td>\n",
              "      <td>NaN</td>\n",
              "      <td>NaN</td>\n",
              "    </tr>\n",
              "    <tr>\n",
              "      <th>2_aug.FrequencyMasking_2</th>\n",
              "      <td>-</td>\n",
              "      <td>[150, 27, 1690]</td>\n",
              "      <td>NaN</td>\n",
              "      <td>NaN</td>\n",
              "    </tr>\n",
              "    <tr>\n",
              "      <th>3_aug.PermuteBlock_3</th>\n",
              "      <td>-</td>\n",
              "      <td>[150, 1690, 27]</td>\n",
              "      <td>NaN</td>\n",
              "      <td>NaN</td>\n",
              "    </tr>\n",
              "    <tr>\n",
              "      <th>4_listener.PermuteBlock_permute</th>\n",
              "      <td>-</td>\n",
              "      <td>[150, 27, 1690]</td>\n",
              "      <td>NaN</td>\n",
              "      <td>NaN</td>\n",
              "    </tr>\n",
              "    <tr>\n",
              "      <th>...</th>\n",
              "      <td>...</td>\n",
              "      <td>...</td>\n",
              "      <td>...</td>\n",
              "      <td>...</td>\n",
              "    </tr>\n",
              "    <tr>\n",
              "      <th>6060_speller.GELU_activation</th>\n",
              "      <td>-</td>\n",
              "      <td>[150, 350]</td>\n",
              "      <td>NaN</td>\n",
              "      <td>NaN</td>\n",
              "    </tr>\n",
              "    <tr>\n",
              "      <th>6061_speller.Dropout_dropout</th>\n",
              "      <td>-</td>\n",
              "      <td>[150, 350]</td>\n",
              "      <td>NaN</td>\n",
              "      <td>NaN</td>\n",
              "    </tr>\n",
              "    <tr>\n",
              "      <th>6062_speller.Linear_linear2</th>\n",
              "      <td>[350, 350]</td>\n",
              "      <td>[150, 350]</td>\n",
              "      <td>NaN</td>\n",
              "      <td>122500.0</td>\n",
              "    </tr>\n",
              "    <tr>\n",
              "      <th>6063_speller.GELU_activation</th>\n",
              "      <td>-</td>\n",
              "      <td>[150, 350]</td>\n",
              "      <td>NaN</td>\n",
              "      <td>NaN</td>\n",
              "    </tr>\n",
              "    <tr>\n",
              "      <th>6064_speller.Linear_char_prob</th>\n",
              "      <td>[350, 31]</td>\n",
              "      <td>[150, 31]</td>\n",
              "      <td>NaN</td>\n",
              "      <td>10850.0</td>\n",
              "    </tr>\n",
              "  </tbody>\n",
              "</table>\n",
              "<p>6065 rows × 4 columns</p>\n",
              "</div>\n",
              "      <button class=\"colab-df-convert\" onclick=\"convertToInteractive('df-1f31e01b-882f-4f9d-9a23-2c93ec7dbb75')\"\n",
              "              title=\"Convert this dataframe to an interactive table.\"\n",
              "              style=\"display:none;\">\n",
              "        \n",
              "  <svg xmlns=\"http://www.w3.org/2000/svg\" height=\"24px\"viewBox=\"0 0 24 24\"\n",
              "       width=\"24px\">\n",
              "    <path d=\"M0 0h24v24H0V0z\" fill=\"none\"/>\n",
              "    <path d=\"M18.56 5.44l.94 2.06.94-2.06 2.06-.94-2.06-.94-.94-2.06-.94 2.06-2.06.94zm-11 1L8.5 8.5l.94-2.06 2.06-.94-2.06-.94L8.5 2.5l-.94 2.06-2.06.94zm10 10l.94 2.06.94-2.06 2.06-.94-2.06-.94-.94-2.06-.94 2.06-2.06.94z\"/><path d=\"M17.41 7.96l-1.37-1.37c-.4-.4-.92-.59-1.43-.59-.52 0-1.04.2-1.43.59L10.3 9.45l-7.72 7.72c-.78.78-.78 2.05 0 2.83L4 21.41c.39.39.9.59 1.41.59.51 0 1.02-.2 1.41-.59l7.78-7.78 2.81-2.81c.8-.78.8-2.07 0-2.86zM5.41 20L4 18.59l7.72-7.72 1.47 1.35L5.41 20z\"/>\n",
              "  </svg>\n",
              "      </button>\n",
              "      \n",
              "  <style>\n",
              "    .colab-df-container {\n",
              "      display:flex;\n",
              "      flex-wrap:wrap;\n",
              "      gap: 12px;\n",
              "    }\n",
              "\n",
              "    .colab-df-convert {\n",
              "      background-color: #E8F0FE;\n",
              "      border: none;\n",
              "      border-radius: 50%;\n",
              "      cursor: pointer;\n",
              "      display: none;\n",
              "      fill: #1967D2;\n",
              "      height: 32px;\n",
              "      padding: 0 0 0 0;\n",
              "      width: 32px;\n",
              "    }\n",
              "\n",
              "    .colab-df-convert:hover {\n",
              "      background-color: #E2EBFA;\n",
              "      box-shadow: 0px 1px 2px rgba(60, 64, 67, 0.3), 0px 1px 3px 1px rgba(60, 64, 67, 0.15);\n",
              "      fill: #174EA6;\n",
              "    }\n",
              "\n",
              "    [theme=dark] .colab-df-convert {\n",
              "      background-color: #3B4455;\n",
              "      fill: #D2E3FC;\n",
              "    }\n",
              "\n",
              "    [theme=dark] .colab-df-convert:hover {\n",
              "      background-color: #434B5C;\n",
              "      box-shadow: 0px 1px 3px 1px rgba(0, 0, 0, 0.15);\n",
              "      filter: drop-shadow(0px 1px 2px rgba(0, 0, 0, 0.3));\n",
              "      fill: #FFFFFF;\n",
              "    }\n",
              "  </style>\n",
              "\n",
              "      <script>\n",
              "        const buttonEl =\n",
              "          document.querySelector('#df-1f31e01b-882f-4f9d-9a23-2c93ec7dbb75 button.colab-df-convert');\n",
              "        buttonEl.style.display =\n",
              "          google.colab.kernel.accessAllowed ? 'block' : 'none';\n",
              "\n",
              "        async function convertToInteractive(key) {\n",
              "          const element = document.querySelector('#df-1f31e01b-882f-4f9d-9a23-2c93ec7dbb75');\n",
              "          const dataTable =\n",
              "            await google.colab.kernel.invokeFunction('convertToInteractive',\n",
              "                                                     [key], {});\n",
              "          if (!dataTable) return;\n",
              "\n",
              "          const docLinkHtml = 'Like what you see? Visit the ' +\n",
              "            '<a target=\"_blank\" href=https://colab.research.google.com/notebooks/data_table.ipynb>data table notebook</a>'\n",
              "            + ' to learn more about interactive tables.';\n",
              "          element.innerHTML = '';\n",
              "          dataTable['output_type'] = 'display_data';\n",
              "          await google.colab.output.renderOutput(dataTable, element);\n",
              "          const docLink = document.createElement('div');\n",
              "          docLink.innerHTML = docLinkHtml;\n",
              "          element.appendChild(docLink);\n",
              "        }\n",
              "      </script>\n",
              "    </div>\n",
              "  </div>\n",
              "  "
            ]
          },
          "metadata": {},
          "execution_count": 25
        }
      ]
    },
    {
      "cell_type": "markdown",
      "source": [
        "# Loss Function, Optimizers, Scheduler"
      ],
      "metadata": {
        "id": "23DMfXsaU6kj"
      }
    },
    {
      "cell_type": "code",
      "source": [
        "optimizer   = torch.optim.AdamW(model.parameters(), lr= config['lr']) # Feel free to experiment if needed\n",
        "criterion   = torch.nn.CrossEntropyLoss(reduction='mean',ignore_index=PAD_TOKEN) #check how would you fill these values : https://pytorch.org/docs/stable/generated/torch.nn.CrossEntropyLoss.html\n",
        "scaler      = torch.cuda.amp.GradScaler()\n",
        "scheduler   = torch.optim.lr_scheduler.CosineAnnealingLR(optimizer, T_max = 70, eta_min = 0.000001)\n",
        "\n",
        "# Optional (but Recommended): Create a custom class for a Teacher Force Schedule"
      ],
      "metadata": {
        "id": "216ukmHbU-ol"
      },
      "execution_count": null,
      "outputs": []
    },
    {
      "cell_type": "markdown",
      "source": [
        "# Levenshtein Distance"
      ],
      "metadata": {
        "id": "ZWQnB8lUVY4f"
      }
    },
    {
      "cell_type": "code",
      "source": [
        "\n",
        "# We have given you this utility function which takes a sequence of indices and converts them to a list of characters\n",
        "def indices_to_chars(indices, vocab):\n",
        "    tokens = []\n",
        "    for i in indices: # This loops through all the indices\n",
        "        if int(i) == SOS_TOKEN: # If SOS is encountered, dont add it to the final list\n",
        "            continue\n",
        "        elif int(i) == EOS_TOKEN: # If EOS is encountered, stop the decoding process\n",
        "            break\n",
        "        else:\n",
        "            tokens.append(vocab[int(i)])\n",
        "    return tokens\n",
        "\n",
        "# To make your life more easier, we have given the Levenshtein distantce / Edit distance calculation code\n",
        "def calc_edit_distance(predictions, y, ly, vocab= VOCAB, print_example= False):\n",
        "\n",
        "    dist                = 0\n",
        "    batch_size, seq_len = predictions.shape\n",
        "    for batch_idx in range(batch_size): \n",
        "\n",
        "        y_sliced    = indices_to_chars(y[batch_idx,0:ly[batch_idx]], vocab)\n",
        "        pred_sliced = indices_to_chars(predictions[batch_idx], vocab)\n",
        "        # Strings - When you are using characters from the AudioDataset\n",
        "        y_string    = ''.join(y_sliced)\n",
        "        pred_string = ''.join(pred_sliced)\n",
        "        dist        += Levenshtein.distance(pred_string, y_string)\n",
        "        # Comment the above and uncomment below for toy dataset, as the toy dataset has a list of phonemes to compare\n",
        "        # dist      += Levenshtein.distance(y_sliced, pred_sliced)\n",
        "    if print_example: \n",
        "        # Print y_sliced and pred_sliced if you are using the toy dataset\n",
        "        print(\"Ground Truth : \", y_string)\n",
        "        print(\"Prediction   : \", pred_string)\n",
        "        wer = torchmetrics.WordErrorRate()\n",
        "        temp_wer = wer(y_string, pred_string)\n",
        "        print(\"Word Error Rate: \", temp_wer)\n",
        "        # if batch_idx ==0:\n",
        "        #   total_wer = 0\n",
        "        # total_wer +=  wer(y_string, pred_string)\n",
        "\n",
        "\n",
        "    dist/=batch_size\n",
        "    return dist, temp_wer"
      ],
      "metadata": {
        "id": "rSsiCdxPVeZW"
      },
      "execution_count": null,
      "outputs": []
    },
    {
      "cell_type": "markdown",
      "source": [
        "# Train and Validation functions \n"
      ],
      "metadata": {
        "id": "Pu4MrSMUUIyp"
      }
    },
    {
      "cell_type": "code",
      "source": [
        "def train(model, dataloader, criterion, optimizer, teacher_forcing_rate):\n",
        "\n",
        "    model.train()\n",
        "    batch_bar = tqdm(total=len(dataloader), dynamic_ncols=True, leave=False, position=0, desc='Train')\n",
        "\n",
        "    running_loss        = 0.0\n",
        "    running_perplexity  = 0.0\n",
        "    \n",
        "    for i, (x, y, lx, ly) in enumerate(dataloader):\n",
        "\n",
        "        optimizer.zero_grad()\n",
        "\n",
        "        x, y, lx, ly = x.to(DEVICE), y.to(DEVICE), lx, ly\n",
        "\n",
        "        with torch.cuda.amp.autocast():\n",
        "\n",
        "            raw_predictions, attention_plot = model(x, lx, y, teacher_forcing_rate)\n",
        "\n",
        "            # Predictions are of Shape (batch_size, timesteps, vocab_size). \n",
        "            # Transcripts are of shape (batch_size, timesteps) Which means that you have batch_size amount of batches with timestep number of tokens.\n",
        "            # So in total, you have batch_size*timesteps amount of characters.\n",
        "            # Similarly, in predictions, you have batch_size*timesteps amount of probability distributions.\n",
        "            # How do you need to modify transcipts and predictions so that you can calculate the CrossEntropyLoss? Hint: Use Reshape/View and read the docs\n",
        "            # Also we recommend you plot the attention weights, you should get convergence in around 10 epochs, if not, there could be something wrong with \n",
        "            # your implementation\n",
        "\n",
        "            raw_predictions = torch.permute(raw_predictions, (0,2,1))\n",
        "            loss        =  criterion(raw_predictions, y)# TODO: Cross Entropy Loss\n",
        "\n",
        "            perplexity  = torch.exp(loss) # Perplexity is defined the exponential of the loss\n",
        "\n",
        "            running_loss        += loss.item()\n",
        "            running_perplexity  += perplexity.item()\n",
        "        \n",
        "        # Backward on the masked loss\n",
        "        scaler.scale(loss).backward()\n",
        "\n",
        "        # Optional: Use torch.nn.utils.clip_grad_norm to clip gradients to prevent them from exploding, if necessary\n",
        "        # If using with mixed precision, unscale the Optimizer First before doing gradient clipping\n",
        "        \n",
        "        scaler.step(optimizer)\n",
        "        scaler.update()\n",
        "        \n",
        "\n",
        "        batch_bar.set_postfix(\n",
        "            loss=\"{:.04f}\".format(running_loss/(i+1)),\n",
        "            perplexity=\"{:.04f}\".format(running_perplexity/(i+1)),\n",
        "            lr=\"{:.04f}\".format(float(optimizer.param_groups[0]['lr'])),\n",
        "            tf_rate='{:.02f}'.format(teacher_forcing_rate))\n",
        "        batch_bar.update()\n",
        "\n",
        "        del x, y, lx, ly\n",
        "        torch.cuda.empty_cache()\n",
        "\n",
        "    running_loss /= len(dataloader)\n",
        "    running_perplexity /= len(dataloader)\n",
        "    batch_bar.close()\n",
        "\n",
        "    return running_loss, running_perplexity, attention_plot"
      ],
      "metadata": {
        "id": "sKOdI0J5Tpem"
      },
      "execution_count": null,
      "outputs": []
    },
    {
      "cell_type": "code",
      "source": [
        "def validate(model, dataloader):\n",
        "\n",
        "    model.eval()\n",
        "\n",
        "    batch_bar = tqdm(total=len(dataloader), dynamic_ncols=True, position=0, leave=False, desc=\"Val\")\n",
        "\n",
        "    running_lev_dist = 0.0\n",
        "    total_wer = 0.0\n",
        "\n",
        "    for i, (x, y, lx, ly) in enumerate(dataloader):\n",
        "\n",
        "        x, y, lx, ly = x.to(DEVICE), y.to(DEVICE), lx, ly\n",
        "\n",
        "        with torch.inference_mode():\n",
        "            raw_predictions, attentions = model(x, lx, y = None)\n",
        "\n",
        "        # Greedy Decoding\n",
        "        # print(\"predictions shape: \",raw_predictions.shape)\n",
        "        greedy_predictions   = torch.argmax(raw_predictions, dim=2) # TODO: How do you get the most likely character from each distribution in the batch?\n",
        "        \n",
        "        # Calculate Levenshtein Distance\n",
        "        temp_lev_dist, temp_total_wer  = calc_edit_distance(greedy_predictions, y, ly, VOCAB, print_example = True) # You can use print_example = True for one specific index i in your batches if you want\n",
        "        running_lev_dist += temp_lev_dist\n",
        "        total_wer += temp_total_wer\n",
        "        batch_bar.set_postfix(\n",
        "            dist=\"{:.04f}\".format(running_lev_dist/(i+1)))\n",
        "        batch_bar.update()\n",
        "\n",
        "        del x, y, lx, ly\n",
        "        torch.cuda.empty_cache()\n",
        "\n",
        "    batch_bar.close()\n",
        "    running_lev_dist /= len(dataloader)\n",
        "\n",
        "    return running_lev_dist, total_wer"
      ],
      "metadata": {
        "id": "YmBLhP8cWm6n"
      },
      "execution_count": null,
      "outputs": []
    },
    {
      "cell_type": "markdown",
      "source": [
        "# Experiment"
      ],
      "metadata": {
        "id": "JmZhxhNseaIr"
      }
    },
    {
      "cell_type": "code",
      "source": [
        "# Login to Wandb\n",
        "import wandb\n",
        "wandb.login(key=\"2cdffa7876dcc502447ef1cd147b4f60b0f4e74b\")\n",
        "# Initialize your Wandb Run Here\n",
        "run = wandb.init(\n",
        "    name = \"Run1\", ## Wandb creates random run names if you skip this field\n",
        "    #reinit = True, ### Allows reinitalizing runs when you re-run this cell\n",
        "    id = 'nfwe2ti9',### Insert specific run id here if you want to resume a previous run\n",
        "    resume = \"must\", ### You need this to resume previous runs, but comment out reinit = True when using this\n",
        "    project = \"project_ablations\", ### Project should be created in your wandb account \n",
        "    config = config ### Wandb Config for your run\n",
        ")\n",
        "# Save your model architecture in a txt file, and save the file to Wandb"
      ],
      "metadata": {
        "id": "sZcCV2BIW2R6",
        "colab": {
          "base_uri": "https://localhost:8080/",
          "height": 469,
          "referenced_widgets": [
            "e82068db00434aa0bbf0b2470df535ca",
            "67b75ed3927349be8ceae92999b01f32",
            "2b4a3093967d44f29c487ec66339987c",
            "e04a51fb680243ecaab47a06b120c741",
            "fdf4dff3ec9c4a178574074d031daa11",
            "a346c087c77f4895a13ace6681157973",
            "324f3f52b8fc41a8836a228fc3f2320d",
            "a2ff13f549344ec49be708a7596856b1"
          ]
        },
        "outputId": "89ce46de-9bbd-46c8-a5bb-f2bc70a78601"
      },
      "execution_count": null,
      "outputs": [
        {
          "output_type": "stream",
          "name": "stderr",
          "text": [
            "\u001b[34m\u001b[1mwandb\u001b[0m: \u001b[33mWARNING\u001b[0m Calling wandb.login() after wandb.init() has no effect.\n"
          ]
        },
        {
          "output_type": "display_data",
          "data": {
            "text/plain": [
              "<IPython.core.display.HTML object>"
            ],
            "text/html": [
              "Finishing last run (ID:nfwe2ti9) before initializing another..."
            ]
          },
          "metadata": {}
        },
        {
          "output_type": "display_data",
          "data": {
            "text/plain": [
              "<IPython.core.display.HTML object>"
            ],
            "text/html": [
              "Waiting for W&B process to finish... <strong style=\"color:green\">(success).</strong>"
            ]
          },
          "metadata": {}
        },
        {
          "output_type": "display_data",
          "data": {
            "text/plain": [
              "VBox(children=(Label(value='0.000 MB of 0.000 MB uploaded (0.000 MB deduped)\\r'), FloatProgress(value=1.0, max…"
            ],
            "application/vnd.jupyter.widget-view+json": {
              "version_major": 2,
              "version_minor": 0,
              "model_id": "e82068db00434aa0bbf0b2470df535ca"
            }
          },
          "metadata": {}
        },
        {
          "output_type": "display_data",
          "data": {
            "text/plain": [
              "<IPython.core.display.HTML object>"
            ],
            "text/html": [
              "<style>\n",
              "    table.wandb td:nth-child(1) { padding: 0 10px; text-align: left ; width: auto;} td:nth-child(2) {text-align: left ; width: 100%}\n",
              "    .wandb-row { display: flex; flex-direction: row; flex-wrap: wrap; justify-content: flex-start; width: 100% }\n",
              "    .wandb-col { display: flex; flex-direction: column; flex-basis: 100%; flex: 1; padding: 10px; }\n",
              "    </style>\n",
              "<div class=\"wandb-row\"><div class=\"wandb-col\"><h3>Run summary:</h3><br/><table class=\"wandb\"><tr><td>lr</td><td>0.001</td></tr><tr><td>tf_ratio</td><td>1</td></tr><tr><td>train_loss</td><td>0.03857</td></tr><tr><td>valid_dist</td><td>15.34912</td></tr></table><br/></div></div>"
            ]
          },
          "metadata": {}
        },
        {
          "output_type": "display_data",
          "data": {
            "text/plain": [
              "<IPython.core.display.HTML object>"
            ],
            "text/html": [
              " View run <strong style=\"color:#cdcd00\">Run1</strong> at: <a href='https://wandb.ai/toolflownet-feeding/project_ablations/runs/nfwe2ti9' target=\"_blank\">https://wandb.ai/toolflownet-feeding/project_ablations/runs/nfwe2ti9</a><br/>Synced 3 W&B file(s), 0 media file(s), 0 artifact file(s) and 0 other file(s)"
            ]
          },
          "metadata": {}
        },
        {
          "output_type": "display_data",
          "data": {
            "text/plain": [
              "<IPython.core.display.HTML object>"
            ],
            "text/html": [
              "Find logs at: <code>./wandb/run-20230427_225800-nfwe2ti9/logs</code>"
            ]
          },
          "metadata": {}
        },
        {
          "output_type": "display_data",
          "data": {
            "text/plain": [
              "<IPython.core.display.HTML object>"
            ],
            "text/html": [
              "Successfully finished last run (ID:nfwe2ti9). Initializing new run:<br/>"
            ]
          },
          "metadata": {}
        },
        {
          "output_type": "display_data",
          "data": {
            "text/plain": [
              "<IPython.core.display.HTML object>"
            ],
            "text/html": [
              "Tracking run with wandb version 0.15.0"
            ]
          },
          "metadata": {}
        },
        {
          "output_type": "display_data",
          "data": {
            "text/plain": [
              "<IPython.core.display.HTML object>"
            ],
            "text/html": [
              "Run data is saved locally in <code>/content/wandb/run-20230427_232914-nfwe2ti9</code>"
            ]
          },
          "metadata": {}
        },
        {
          "output_type": "display_data",
          "data": {
            "text/plain": [
              "<IPython.core.display.HTML object>"
            ],
            "text/html": [
              "Resuming run <strong><a href='https://wandb.ai/toolflownet-feeding/project_ablations/runs/nfwe2ti9' target=\"_blank\">Run1</a></strong> to <a href='https://wandb.ai/toolflownet-feeding/project_ablations' target=\"_blank\">Weights & Biases</a> (<a href='https://wandb.me/run' target=\"_blank\">docs</a>)<br/>"
            ]
          },
          "metadata": {}
        },
        {
          "output_type": "display_data",
          "data": {
            "text/plain": [
              "<IPython.core.display.HTML object>"
            ],
            "text/html": [
              " View project at <a href='https://wandb.ai/toolflownet-feeding/project_ablations' target=\"_blank\">https://wandb.ai/toolflownet-feeding/project_ablations</a>"
            ]
          },
          "metadata": {}
        },
        {
          "output_type": "display_data",
          "data": {
            "text/plain": [
              "<IPython.core.display.HTML object>"
            ],
            "text/html": [
              " View run at <a href='https://wandb.ai/toolflownet-feeding/project_ablations/runs/nfwe2ti9' target=\"_blank\">https://wandb.ai/toolflownet-feeding/project_ablations/runs/nfwe2ti9</a>"
            ]
          },
          "metadata": {}
        }
      ]
    },
    {
      "cell_type": "code",
      "source": [
        "def plot_attention(attention): \n",
        "    # Function for plotting attention\n",
        "    # You need to get a diagonal plot\n",
        "    plt.clf()\n",
        "    sns.heatmap(attention, cmap='GnBu')\n",
        "    plt.show()\n",
        "\n",
        "def save_model(model, optimizer, scheduler, metric, epoch, path):\n",
        "    torch.save(\n",
        "        {'model_state_dict'         : model.state_dict(),\n",
        "         'optimizer_state_dict'     : optimizer.state_dict(),\n",
        "         'scheduler_state_dict'     : scheduler.state_dict(),\n",
        "         metric[0]                  : metric[1], \n",
        "         'epoch'                    : epoch}, \n",
        "         path\n",
        "    )"
      ],
      "metadata": {
        "id": "IgJdA9jrZwid"
      },
      "execution_count": null,
      "outputs": []
    },
    {
      "cell_type": "code",
      "source": [
        "gc.collect()\n",
        "torch.cuda.empty_cache()"
      ],
      "metadata": {
        "id": "PP9hZNM-v_K-"
      },
      "execution_count": null,
      "outputs": []
    },
    {
      "cell_type": "code",
      "source": [
        "gc.collect()\n",
        "torch.cuda.empty_cache()\n",
        "#total_wer = torch.tensor(0)\n",
        "best_lev_dist = float(\"inf\")\n",
        "tf_rate = 1\n",
        "\n",
        "for epoch in range(0, config['epochs']):\n",
        "    \n",
        "    print(\"\\nEpoch: {}/{}\".format(epoch+1, config['epochs']))\n",
        "\n",
        "    curr_lr = float(optimizer.param_groups[0]['lr'])\n",
        "\n",
        "    # Call train and validate, get attention weights from training\n",
        "\n",
        "    # model, dataloader, criterion, optimizer, teacher_forcing_rate\n",
        "    train_loss, running_perplexity, attention_plot = train(model,train_loader, criterion, optimizer,tf_rate)\n",
        "    valid_dist, total_wer = validate(model, val_loader)\n",
        "\n",
        "    # Print your metrics\n",
        "    print(\"\\tTrain Loss {:.04f}\\t Learning Rate {:.07f}\".format(train_loss, curr_lr))\n",
        "    print(\"\\tVal Dist {:.04f}\\t\".format(valid_dist))\n",
        "    print(\"\\tTeacher Forcing Ratio {}\\t\".format(tf_rate))\n",
        "\n",
        "    wandb.log({\n",
        "        'train_loss': train_loss,  \n",
        "        'valid_dist': valid_dist, \n",
        "        'lr'        : curr_lr,\n",
        "        'tf_ratio'  : tf_rate\n",
        "    })\n",
        "    print(\"Average WordErrorRate\", total_wer/19 )\n",
        "    # Plot Attention for a single item in the batch\n",
        "    plot_attention(attention_plot[0].cpu().detach().numpy())\n",
        "\n",
        "    # Log metrics to Wandb\n",
        "\n",
        "    # Optional: Scheduler Step / Teacher Force Schedule Step\n",
        "    if epoch > 10:\n",
        "      scheduler.step()\n",
        "    if (valid_dist < 30 or epoch >15) and tf_rate > 0.6:\n",
        "      tf_rate*=0.985\n",
        "    if valid_dist <= best_lev_dist:\n",
        "        best_lev_dist = valid_dist\n",
        "        save_path = \"Run3_model_{0}_{1}_{2}.pth\".format(config['lr'],config['batch_size'],model.name)\n",
        "        save_model(model, optimizer, scheduler, ['valid_dist', valid_dist], epoch, save_path)\n",
        "        wandb.save(save_path)\n",
        "        print(\"Saved best model\")\n",
        "        # Save your model checkpoint here"
      ],
      "metadata": {
        "id": "eDWGFIcjddz-",
        "colab": {
          "base_uri": "https://localhost:8080/",
          "height": 1000
        },
        "outputId": "7ee12f44-7f8a-49dd-fa67-e5ed28053b0a"
      },
      "execution_count": null,
      "outputs": [
        {
          "output_type": "stream",
          "name": "stderr",
          "text": [
            "/usr/local/lib/python3.9/dist-packages/wandb/sdk/wandb_run.py:2087: UserWarning: Run (nfwe2ti9) is finished. The call to `_console_raw_callback` will be ignored. Please make sure that you are using an active run.\n",
            "  lambda data: self._console_raw_callback(\"stderr\", data),\n"
          ]
        },
        {
          "output_type": "stream",
          "name": "stdout",
          "text": [
            "\n",
            "Epoch: 1/1\n"
          ]
        },
        {
          "output_type": "stream",
          "name": "stderr",
          "text": [
            "Val:   5%|▌         | 1/19 [00:02<00:48,  2.67s/it, dist=14.6533]"
          ]
        },
        {
          "output_type": "stream",
          "name": "stdout",
          "text": [
            "Ground Truth :  THEY STAND UNMOVED IN THEIR SOLITARY GREATNESS WELL ASSURED THAT THEY ARE SEEN OF ALL THE WORLD WITHOUT ANY EFFORT TO SHOW THEMSELVES OFF AND THAT NO ONE WILL ATTEMPT TO DRIVE THEM FROM THAT POSITION\n",
            "Prediction   :  THEY STAND A MOVE IN THEIR SOLITARY GRAPES WELL AS YOU ARE THE BARE SEEN OF OLD A WORLD WITHOUT ANY EFFORT TO SHOW THEMSELVES OFF AND AT NO ONE WILL ATTEMPT TO DRIVE THEM FROM THE POSITION\n",
            "Word Error Rate:  tensor(0.3158)\n"
          ]
        },
        {
          "output_type": "stream",
          "name": "stderr",
          "text": [
            "Val:  11%|█         | 2/19 [00:05<00:43,  2.55s/it, dist=15.9800]"
          ]
        },
        {
          "output_type": "stream",
          "name": "stdout",
          "text": [
            "Ground Truth :  HE SAW THAT IN THE EXCITEMENT OF RECENT EVENTS HE HAD NOT FORMULATED A PLAN UPON THAT SCORE\n",
            "Prediction   :  HE SAW THAT IN THE EXCITEMENT EFFECING THE BENCH HE HAD NOT FORMULATED A PLAN UPON THAT SCORE\n",
            "Word Error Rate:  tensor(0.1667)\n"
          ]
        },
        {
          "output_type": "stream",
          "name": "stderr",
          "text": [
            "Val:  16%|█▌        | 3/19 [00:07<00:40,  2.54s/it, dist=16.4178]"
          ]
        },
        {
          "output_type": "stream",
          "name": "stdout",
          "text": [
            "Ground Truth :  HE CHECKED THE SILLY IMPULSE\n",
            "Prediction   :  HE TACT THIS ONLY IMPULSE\n",
            "Word Error Rate:  tensor(0.6000)\n"
          ]
        },
        {
          "output_type": "stream",
          "name": "stderr",
          "text": [
            "Val:  21%|██        | 4/19 [00:10<00:38,  2.56s/it, dist=16.0783]"
          ]
        },
        {
          "output_type": "stream",
          "name": "stdout",
          "text": [
            "Ground Truth :  THE FEEBLE SON OF ARCADIUS WAS ALTERNATELY SWAYED BY HIS WIFE AND SISTER BY THE EUNUCHS AND WOMEN OF THE PALACE SUPERSTITION AND AVARICE WERE THEIR RULING PASSIONS AND THE ORTHODOX CHIEFS WERE ASSIDUOUS IN THEIR ENDEAVORS TO ALARM THE FORMER AND TO GRATIFY THE LATTER\n",
            "Prediction   :  THE FEEBLE SUN OF OUR KEITIES WAS ALTONATELY SWEED BY HIS WIFE AND SISTER BY THE UNICS AND WOMEN OF THE PALACE SUPERSTITION AND AVARICE WERE THEIR ROLLING PASSIONS AND THE ORDER OF CHEETS WERE A SIDIER IS IN THEIR ENDEAVOURS TO ALARM THE FORMER AND TO GRATIFY THE LETTER\n",
            "Word Error Rate:  tensor(0.3000)\n"
          ]
        },
        {
          "output_type": "stream",
          "name": "stderr",
          "text": [
            "Val:  26%|██▋       | 5/19 [00:12<00:36,  2.57s/it, dist=15.9587]"
          ]
        },
        {
          "output_type": "stream",
          "name": "stdout",
          "text": [
            "Ground Truth :  DO HIM GOOD CURSE HIM\n",
            "Prediction   :  DO HEN GOOD CARSON\n",
            "Word Error Rate:  tensor(0.7500)\n"
          ]
        },
        {
          "output_type": "stream",
          "name": "stderr",
          "text": [
            "Val:  32%|███▏      | 6/19 [00:15<00:33,  2.55s/it, dist=15.7800]"
          ]
        },
        {
          "output_type": "stream",
          "name": "stdout",
          "text": [
            "Ground Truth :  MEANWHILE ALL THE REST OF THE PEOPLE IN THE CASTLE HAD BEEN WAKENED AT THE SAME MOMENT AS THE PRINCESS AND THEY WERE NOW EXTREMELY HUNGRY\n",
            "Prediction   :  MEANWHILE ALL THE REST OF THE PEOPLE AND THE CASTLE HAD BEEN AWAKENED AT THE SAME MOMENT AS THE PRINCESS AND THEY WERE NOW EXTREMELY HONGRY\n",
            "Word Error Rate:  tensor(0.1154)\n"
          ]
        },
        {
          "output_type": "stream",
          "name": "stderr",
          "text": [
            "Val:  37%|███▋      | 7/19 [00:17<00:29,  2.49s/it, dist=15.3667]"
          ]
        },
        {
          "output_type": "stream",
          "name": "stdout",
          "text": [
            "Ground Truth :  THAT'S MACKLEWAIN'S BUSINESS\n",
            "Prediction   :  THAT'S MACHACAME'S BUSINESS\n",
            "Word Error Rate:  tensor(0.3333)\n"
          ]
        },
        {
          "output_type": "stream",
          "name": "stderr",
          "text": [
            "Val:  42%|████▏     | 8/19 [00:20<00:27,  2.48s/it, dist=15.1575]"
          ]
        },
        {
          "output_type": "stream",
          "name": "stdout",
          "text": [
            "Ground Truth :  SOMETHING HAD TO BE DONE A CLIMAX WAS NEAR AND SHE WOULD NOT SIT IDLE\n",
            "Prediction   :  SOMETHING HAD TO BE DONE A CLANCE WAS NEAR AND SHE WOULD NOT SAID IDLE\n",
            "Word Error Rate:  tensor(0.1333)\n"
          ]
        },
        {
          "output_type": "stream",
          "name": "stderr",
          "text": [
            "Val:  47%|████▋     | 9/19 [00:22<00:25,  2.52s/it, dist=15.5163]"
          ]
        },
        {
          "output_type": "stream",
          "name": "stdout",
          "text": [
            "Ground Truth :  IN THE MEANWHILE THE MINDS OF MEN CUT ADRIFT FROM THEIR ANCIENT MOORINGS WANDERED WILDLY OVER PATHLESS SEAS OF SPECULATIVE DOUBT AND ESPECIALLY IN THE MORE METAPHYSICAL AND CONTEMPLATIVE EAST ATTEMPTED TO SOLVE FOR THEMSELVES THE QUESTIONS OF MAN'S RELATION TO THE UNSEEN BY THOSE THOUSAND SCHISMS HERESIES AND THEOSOPHIES IT IS A DISGRACE TO THE WORD PHILOSOPHY TO CALL THEM BY IT ON THE RECORDS OF WHICH THE STUDENT NOW GAZES BEWILDERED UNABLE ALIKE TO COUNT OR TO EXPLAIN THEIR FANTASIES\n",
            "Prediction   :  IN THE MEANWHILE THE MINDS OF MEN COUNTED DRIFT FROM THEIR ANCIENT MOORINGS WATER WILDLY OVER PATFUL A SEAS OF SPECULES OF DOUBT AND DESPECIALLY IN THE MORE METIPHYSICAL AND CONTEMPLATIVE EAST ATTEMPTED TO SAW FOR THEMSELVES THE QUESTIONS OF MAN'S RELATION TO THE UNSEA BY THOSE THOUSAND SKISSMES HARRIS EASE AND THE ALSIFIES THE STUDENT THE WORD PHILOSOPHY TO CALL THEM BY IT ON THE RECORDS OF WHICH THE STUDENT THOU GAZED AS BE WILDERED ON THE RECORDS OF WHICH THE STUDENT THOU GAZED AS BE WILDERED ON THE RECORDS OF WHICH THE STUDENT THOU GAZED A\n",
            "Word Error Rate:  tensor(0.4796)\n"
          ]
        },
        {
          "output_type": "stream",
          "name": "stderr",
          "text": [
            "Val:  53%|█████▎    | 10/19 [00:25<00:22,  2.54s/it, dist=15.8613]"
          ]
        },
        {
          "output_type": "stream",
          "name": "stdout",
          "text": [
            "Ground Truth :  WILL HALLEY IS A BRUTE BUT I AM KEEPING MY EYES OPEN AND IF THE COAST LOOKS DANGEROUS I WILL PUT THE SHIP'S HEAD TO SEA AGAIN\n",
            "Prediction   :  WELL HOW HE IS IT BORN BUT I AM KEEP IN MY EYES OPEN AND THAT THE COAST LOOKS VANIERACE OUL PUT THE SHIP'S HEAD TO SEE AGAIN\n",
            "Word Error Rate:  tensor(0.4286)\n"
          ]
        },
        {
          "output_type": "stream",
          "name": "stderr",
          "text": [
            "Val:  58%|█████▊    | 11/19 [00:27<00:20,  2.52s/it, dist=15.8855]"
          ]
        },
        {
          "output_type": "stream",
          "name": "stdout",
          "text": [
            "Ground Truth :  THEN HE SAT DOWN IN HIS CHAIR AND GAZED WITHOUT SEEING CONTEMPLATING THE RESULT OF HIS WORK\n",
            "Prediction   :  THEN HE SAT DOWN IN HIS CHAIR AND GAZED WITHOUT SEEING CONTAIN BUTTING THE RESULT OF HIS WORK\n",
            "Word Error Rate:  tensor(0.1111)\n"
          ]
        },
        {
          "output_type": "stream",
          "name": "stderr",
          "text": [
            "Val:  63%|██████▎   | 12/19 [00:30<00:17,  2.52s/it, dist=16.0372]"
          ]
        },
        {
          "output_type": "stream",
          "name": "stdout",
          "text": [
            "Ground Truth :  I ALSO OFFERED TO HELP YOUR BROTHER TO ESCAPE BUT HE WOULD NOT GO\n",
            "Prediction   :  I ALSO OFFER DANTEL DE BREAD AT THIRISK PEN BUT HE WOULD NOT GO\n",
            "Word Error Rate:  tensor(0.5000)\n"
          ]
        },
        {
          "output_type": "stream",
          "name": "stderr",
          "text": [
            "Val:  68%|██████▊   | 13/19 [00:32<00:14,  2.48s/it, dist=15.9785]"
          ]
        },
        {
          "output_type": "stream",
          "name": "stdout",
          "text": [
            "Ground Truth :  WHAT THEN MY LORD\n",
            "Prediction   :  WHAT THEN MY LORD\n",
            "Word Error Rate:  tensor(0.)\n"
          ]
        },
        {
          "output_type": "stream",
          "name": "stderr",
          "text": [
            "Val:  74%|███████▎  | 14/19 [00:35<00:12,  2.48s/it, dist=16.0381]"
          ]
        },
        {
          "output_type": "stream",
          "name": "stdout",
          "text": [
            "Ground Truth :  YOU'VE GOT A BIRTHDAY PRESENT THIS TIME JIM AND NO MISTAKE\n",
            "Prediction   :  YOU'VE GOT A BIRD THEY PRESENT THIS TIME JIM AND NO MISTAKE\n",
            "Word Error Rate:  tensor(0.1667)\n"
          ]
        },
        {
          "output_type": "stream",
          "name": "stderr",
          "text": [
            "Val:  79%|███████▉  | 15/19 [00:37<00:09,  2.47s/it, dist=15.9271]"
          ]
        },
        {
          "output_type": "stream",
          "name": "stdout",
          "text": [
            "Ground Truth :  GO ON DOWN THE MOUNTAIN SAID MERCURY AND AS YOU GO CAST THE BONES OF YOUR MOTHER OVER YOUR SHOULDERS BEHIND YOU AND WITH THESE WORDS HE LEAPED INTO THE AIR AND WAS SEEN NO MORE\n",
            "Prediction   :  GO ON DOWN THE MOUNTAIN SAID MARCURY AND I'ZEW GO CAST THE BOAS OF YOUR MOTHER OVER YOUR SHOULDERS BEHIND YOU AND WITH THESE WORDS HE LEAPED INTO THE AIR AND WAS SEEN NO MORE\n",
            "Word Error Rate:  tensor(0.1143)\n"
          ]
        },
        {
          "output_type": "stream",
          "name": "stderr",
          "text": [
            "Val:  84%|████████▍ | 16/19 [00:40<00:07,  2.48s/it, dist=15.9742]"
          ]
        },
        {
          "output_type": "stream",
          "name": "stdout",
          "text": [
            "Ground Truth :  DID YOU SUPPOSE A PALACE WOULD BE LIKE ONE OF OUR HANDSOME RESIDENCES ASKED THE WOMAN EVIDENTLY SURPRISED\n",
            "Prediction   :  DID YOU SUPPOSE IT HOUSE WOULD BE LIKE ONE OF OUR HANDSOME RESIDENCES ASKED THE WOMAN EVIDENTLY SURPRISED\n",
            "Word Error Rate:  tensor(0.1111)\n"
          ]
        },
        {
          "output_type": "stream",
          "name": "stderr",
          "text": [
            "Val:  89%|████████▉ | 17/19 [00:42<00:04,  2.50s/it, dist=15.8580]"
          ]
        },
        {
          "output_type": "stream",
          "name": "stdout",
          "text": [
            "Ground Truth :  I FELT QUITE LIVELY MYSELF AS I MINGLED WITH THE CHRISTMAS CROWD LOOKING FOR THINGS WHICH MIGHT NOT TURN OUT TO BE ABSOLUTELY PREPOSTEROUS\n",
            "Prediction   :  I FELT QUITE LIVELY MYSELF AS A MINGLED WITH THE CHRISTMAS CROWD LOOKING FOR THINGS WHICH MIGHT NOT TURN OUT TO BE ABSOLUTELY PROPOSTEROUS\n",
            "Word Error Rate:  tensor(0.0833)\n"
          ]
        },
        {
          "output_type": "stream",
          "name": "stderr",
          "text": [
            "Val:  95%|█████████▍| 18/19 [00:45<00:02,  2.49s/it, dist=16.1485]"
          ]
        },
        {
          "output_type": "stream",
          "name": "stdout",
          "text": [
            "Ground Truth :  DUE TO THEE THEIR PRAISE OF MAIDEN PURE OF TEEMING MOTHERHOOD\n",
            "Prediction   :  DUE TO BE THEIR PRAISE OF MADE ME PURE OF TEAMING MOTHERHOOD\n",
            "Word Error Rate:  tensor(0.3333)\n"
          ]
        },
        {
          "output_type": "stream",
          "name": "stderr",
          "text": [
            "                                                                  "
          ]
        },
        {
          "output_type": "stream",
          "name": "stdout",
          "text": [
            "Ground Truth :  SO THEY JUST CAME IN HERE AND LIT THE CHARCOAL AND SAT DRINKING TOGETHER TILL THEY ALL FELL ASLEEP\n",
            "Prediction   :  SO THEY JUST CAME IN HERE AND LET THE CHARCOAL AND SAT DRINKING TOGETHER TILL THEY ALL FELL ASLEEP\n",
            "Word Error Rate:  tensor(0.0526)\n",
            "\tTrain Loss 0.0475\t Learning Rate 0.0010000\n",
            "\tVal Dist 15.9828\t\n",
            "\tTeacher Forcing Ratio 1\t\n",
            "Average WordErrorRate tensor(0.2682)\n"
          ]
        },
        {
          "output_type": "stream",
          "name": "stderr",
          "text": [
            "\r"
          ]
        },
        {
          "output_type": "display_data",
          "data": {
            "text/plain": [
              "<Figure size 640x480 with 2 Axes>"
            ],
            "image/png": "[encoded data removed]"
          },
          "metadata": {}
        },
        {
          "output_type": "stream",
          "name": "stdout",
          "text": [
            "Saved best model\n"
          ]
        }
      ]
    },
    {
      "cell_type": "markdown",
      "source": [],
      "metadata": {
        "id": "8D4Cu_qe9zj3"
      }
    },
    {
      "cell_type": "markdown",
      "source": [
        "# Testing"
      ],
      "metadata": {
        "id": "hgFYFaBGeBqM"
      }
    },
    {
      "cell_type": "markdown",
      "source": [],
      "metadata": {
        "id": "d9XK30mbCW81"
      }
    },
    {
      "cell_type": "markdown",
      "source": [],
      "metadata": {
        "id": "SMGa-Ojv8w6F"
      }
    },
    {
      "cell_type": "code",
      "source": [
        "def testing(model, dataloader):\n",
        "\n",
        "    results = []\n",
        "    model.eval()\n",
        "\n",
        "    # batch_bar = tqdm(total=len(dataloader), dynamic_ncols=True, position=0, leave=False, desc=\"Testing\")\n",
        "\n",
        "    running_lev_dist = 0.0\n",
        "\n",
        "    for i, (x,lx) in enumerate(dataloader):\n",
        "\n",
        "        x, lx = x.to(DEVICE), lx\n",
        "\n",
        "        with torch.inference_mode():\n",
        "            raw_predictions, attentions = model(x, lx, y = None)\n",
        "\n",
        "        greedy_predictions   = torch.argmax(raw_predictions, dim=2) # TODO: How do you get the most likely character from each distribution in the batch?\n",
        "\n",
        "        del x, lx\n",
        "        results.extend(greedy_predictions)\n",
        "    return results"
      ],
      "metadata": {
        "id": "BunLsKdpqiCW"
      },
      "execution_count": null,
      "outputs": []
    },
    {
      "cell_type": "code",
      "source": [
        "checkpoint = torch.load(\"/content/rerun_run2_model_0.001_150_LAS.pth\")\n",
        "model_dict = checkpoint[\"model_state_dict\"]\n",
        "# opt_dict = checkpoint[\"optimizer_state_dict\"]\n",
        "# sched_dict = checkpoint[\"scheduler_state_dict\"]\n",
        "model.load_state_dict(model_dict)\n",
        "# optimizer.load_state_dict(opt_dict)\n",
        "# scheduler.load_state_dict(sched_dict)\n"
      ],
      "metadata": {
        "colab": {
          "base_uri": "https://localhost:8080/"
        },
        "id": "S-KTjIjGD6y2",
        "outputId": "ba104007-fd8b-418d-b9d2-17806f413fcd"
      },
      "execution_count": null,
      "outputs": [
        {
          "output_type": "execute_result",
          "data": {
            "text/plain": [
              "<All keys matched successfully>"
            ]
          },
          "metadata": {},
          "execution_count": 32
        }
      ]
    },
    {
      "cell_type": "code",
      "source": [
        "results = testing(model, test_loader)\n",
        "results"
      ],
      "metadata": {
        "id": "ItOfMMibGbRl"
      },
      "execution_count": null,
      "outputs": []
    },
    {
      "cell_type": "code",
      "source": [
        "valid_dist = validate(model, val_loader)"
      ],
      "metadata": {
        "id": "_pNwEQFrijPz"
      },
      "execution_count": null,
      "outputs": []
    },
    {
      "cell_type": "code",
      "source": [
        "valid_dist"
      ],
      "metadata": {
        "colab": {
          "base_uri": "https://localhost:8080/"
        },
        "id": "OVkVQdKii8Kj",
        "outputId": "6b4cea2f-4568-4c4d-cb76-633af6eb6e7f"
      },
      "execution_count": null,
      "outputs": [
        {
          "output_type": "execute_result",
          "data": {
            "text/plain": [
              "4.850175438596492"
            ]
          },
          "metadata": {},
          "execution_count": 46
        }
      ]
    },
    {
      "cell_type": "code",
      "source": [
        "# Optional: Load your best model Checkpoint here\n",
        "\n",
        "# TODO: Create a testing function similar to validation \n",
        "results = testing(model, test_loader)\n",
        "# TODO: Create a file with all predictions \n",
        "with open('submission_new.csv', 'w') as file:\n",
        "  file.write(\"index,label\\n\")\n",
        "  for i, pred in enumerate(results):\n",
        "    pred_sliced = indices_to_chars(results[i], VOCAB)\n",
        "    pred_string = ''.join(pred_sliced)\n",
        "    file.write(f\"{i},{pred_string}\\n\")\n"
      ],
      "metadata": {
        "id": "VxEFx7ipeCqJ"
      },
      "execution_count": null,
      "outputs": []
    },
    {
      "cell_type": "code",
      "source": [
        "!kaggle competitions submit -c 11-785-s23-hw4p2 -f submission_new.csv -m \"Finally done\""
      ],
      "metadata": {
        "colab": {
          "base_uri": "https://localhost:8080/"
        },
        "id": "c97WQw1QE_f_",
        "outputId": "759527ea-7c66-456b-a801-b4435dddce3e"
      },
      "execution_count": null,
      "outputs": [
        {
          "output_type": "stream",
          "name": "stdout",
          "text": [
            "Warning: Looks like you're using an outdated API Version, please consider updating (server 1.5.13 / client 1.5.8)\n",
            "100% 294k/294k [00:00<00:00, 1.14MB/s]\n",
            "Successfully submitted to Attention-Based Speech Recognition"
          ]
        }
      ]
    }
  ]
}